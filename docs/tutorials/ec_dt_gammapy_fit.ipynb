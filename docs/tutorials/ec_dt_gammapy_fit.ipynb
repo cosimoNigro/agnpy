{
 "cells": [
  {
   "cell_type": "markdown",
   "id": "ec15d163",
   "metadata": {},
   "source": [
    "# Tutorial: fitting a FSRQ broad-band SED using angpy and Gammapy\n",
    "In order to perform a fit of the broad-band SED of a jetted AGN, `agnpy` includes a `gammapy` wrapper.\n",
    "The wrapper defines a custom [SpectralModel](https://docs.gammapy.org/0.20/api/gammapy.modeling.models.SpectralModel.html), representing the emission due to a combination of radiative processes. The `SpectralModel` can be used either to fit flux points or to perform a forward-folding likelihood fit (if the instrument response is available in a format compatible with `gammapy`). \n",
    "\n",
    "Several combination of radiative processes can be considered to model the broad-band emission of jetted AGN. For simplicity, we provide wrappers for the two scenarios most-commonly considered:\n",
    "\n",
    " * `SycnhrotronSelfComptonModel`, representing the sum of synchrotron and synchrotron self-Compton (SSC) radiation. This scenario is commonly considered to model BL Lac sources;\n",
    "\n",
    " * `ExternalComptonModel`, representing the sum of synchrotron and synchrotron self-Compton radiation along with an external Compton (EC) component. EC scattering can be computed considering a list of target photon fields. This scenario is commonly considered to model flat spectrum radio quasars (FSRQs).\n",
    "\n",
    "In this tutorial we will show how to use `ExternalComptonSpectralModel` to perform the fit of the broad-band SED of PKS1510-089, measured during its gamma-ray flaring activity in 2015 [(Ahnen et al. 2017)](https://ui.adsabs.harvard.edu/abs/2017A%26A...603A..29A/abstract). We select the MWL SED corresponding to the period identified in the paper as \"Period B\" (MJD 57164-57166). \n",
    "\n",
    "[Gammapy](https://gammapy.org/) is required to run this notebook."
   ]
  },
  {
   "cell_type": "code",
   "execution_count": 1,
   "id": "39abfeed",
   "metadata": {},
   "outputs": [],
   "source": [
    "# import numpy, astropy and matplotlib for basic functionalities\n",
    "import numpy as np\n",
    "import astropy.units as u\n",
    "from astropy.constants import c, G, M_sun\n",
    "import matplotlib.pyplot as plt\n",
    "import pkg_resources\n",
    "\n",
    "# import agnpy classes\n",
    "from agnpy.spectra import LogParabola\n",
    "from agnpy.fit import ExternalComptonModel, load_gammapy_flux_points\n",
    "from agnpy.utils.plot import load_mpl_rc, sed_y_label\n",
    "\n",
    "load_mpl_rc()\n",
    "\n",
    "# import gammapy classes\n",
    "from gammapy.modeling.models import SkyModel\n",
    "from gammapy.modeling import Fit"
   ]
  },
  {
   "cell_type": "markdown",
   "id": "4e2c0367",
   "metadata": {},
   "source": [
    "The `ExternalComptonModel` wraps the `agnpy` functions to compute synchrotron, SSC, and EC radiation. It returns a `gammapy.modeling.SpectralModel`. To initialise the model, the electron distribution and a list of targets for EC has to be specified, the remaining parameters (the ones of the emission region and of the line / thermal emitters) will be initialised automatically and can be modified at a later stage.\n",
    "\n",
    "The `ExternalComptonModel` class provides both the `sherpa` and `gammapy` wrappers. You should specify, through the `backend` argument, which package you want to use.\n",
    "\n",
    "In this case we choose to consider only EC on the DT radiation."
   ]
  },
  {
   "cell_type": "code",
   "execution_count": 2,
   "id": "90b627f3",
   "metadata": {},
   "outputs": [],
   "source": [
    "# electron energy distribution\n",
    "n_e = LogParabola(\n",
    "    k_e=1 * u.Unit(\"cm-3\"), p=2.0, q=0.2, gamma_0=1e2, gamma_min=1, gamma_max=3e4\n",
    ")\n",
    "\n",
    "# initialise the sherpa model, consider only EC on the DT radiation\n",
    "ec_model = ExternalComptonModel(n_e, [\"dt\"], ssa=True, backend=\"gammapy\")"
   ]
  },
  {
   "cell_type": "markdown",
   "id": "990ffd73",
   "metadata": {},
   "source": [
    "Let us set appropriate parameters for the emission region. The size of the blob, $R_{\\rm b}$, is set by the variability timescale, $t_{\\rm var}$, via\n",
    "\n",
    "\\begin{equation}\n",
    "R_{\\rm b} = \\frac{c \\delta_{\\rm D} t_{\\rm var}}{1 + z},\n",
    "\\end{equation}\n",
    "\n",
    "where $c$ is the speed of light, $\\delta_{\\rm D}$ the Doppler factor, and $z$ the redshift.\n",
    "\n",
    "The parameters of the accretion disk and the DT are taken from [(Ahnen et al. 2017)](https://ui.adsabs.harvard.edu/abs/2017A%26A...603A..29A/abstract)."
   ]
  },
  {
   "cell_type": "code",
   "execution_count": 3,
   "id": "6ef9d4a7",
   "metadata": {},
   "outputs": [],
   "source": [
    "z = 0.361\n",
    "\n",
    "# - blob parameters\n",
    "Gamma = 20\n",
    "delta_D = 25\n",
    "Beta = np.sqrt(1 - 1 / np.power(Gamma, 2))  # jet relativistic speed\n",
    "mu_s = (1 - 1 / (Gamma * delta_D)) / Beta  # viewing angle\n",
    "B = 0.35 * u.G\n",
    "# size and location of the emission region\n",
    "t_var = 0.5 * u.d\n",
    "r = 6e17 * u.cm\n",
    "\n",
    "# - disk parameters\n",
    "L_disk = 6.7e45 * u.Unit(\"erg s-1\")  # disk luminosity\n",
    "M_BH = 5.71 * 1e7 * M_sun\n",
    "eta = 1 / 12\n",
    "m_dot = (L_disk / (eta * c ** 2)).to(\"g s-1\")\n",
    "R_g = ((G * M_BH) / c ** 2).to(\"cm\")\n",
    "R_in = 6 * R_g\n",
    "R_out = 3e4 * R_g\n",
    "\n",
    "# - DT parameters\n",
    "xi_dt = 0.6\n",
    "T_dt = 2e3 * u.K\n",
    "# Ghisellini and Tavecchio's Formula\n",
    "# relating the DT radius to the disk luminosity (check the reference)\n",
    "R_dt = 2.5 * 1e18 * np.sqrt(L_disk.to_value(\"erg s-1\") / 1e45) * u.cm"
   ]
  },
  {
   "cell_type": "code",
   "execution_count": 4,
   "id": "fcdd45fe",
   "metadata": {},
   "outputs": [],
   "source": [
    "# emission regions parameters\n",
    "ec_model.parameters[\"z\"].value = z\n",
    "ec_model.parameters[\"delta_D\"].value = delta_D\n",
    "ec_model.parameters[\"log10_B\"].value = np.log10(0.35)\n",
    "ec_model.parameters[\"mu_s\"].value = mu_s\n",
    "ec_model.parameters[\"t_var\"].value = t_var.to_value(\"s\")\n",
    "ec_model.parameters[\"t_var\"].frozen = True\n",
    "ec_model.parameters[\"log10_r\"].value = np.log10(r.to_value(\"cm\"))\n",
    "\n",
    "# we freeze the reference energy of the log parabola\n",
    "ec_model.parameters[\"log10_gamma_0\"].frozen = True\n",
    "\n",
    "# target parameters\n",
    "# - disk\n",
    "ec_model.parameters[\"log10_L_disk\"].value = np.log10(L_disk.to_value(\"erg s-1\"))\n",
    "ec_model.parameters[\"M_BH\"].value = M_BH.to_value(\"g\")\n",
    "ec_model.parameters[\"m_dot\"].value = m_dot.to_value(\"g s-1\")\n",
    "ec_model.parameters[\"R_in\"].value = R_in.to_value(\"cm\")\n",
    "ec_model.parameters[\"R_out\"].value = R_out.to_value(\"cm\")\n",
    "# - DT\n",
    "ec_model.parameters[\"xi_dt\"].value = xi_dt\n",
    "ec_model.parameters[\"T_dt\"].value = T_dt.to_value(\"K\")\n",
    "ec_model.parameters[\"R_dt\"].value = R_dt.to_value(\"cm\")"
   ]
  },
  {
   "cell_type": "markdown",
   "id": "3486e440",
   "metadata": {},
   "source": [
    "We can display all the parameters of the model at once"
   ]
  },
  {
   "cell_type": "code",
   "execution_count": 5,
   "id": "188c46f7",
   "metadata": {},
   "outputs": [
    {
     "data": {
      "text/html": [
       "<div><i>Table length=21</i>\n",
       "<table id=\"table140170870736880\" class=\"table-striped table-bordered table-condensed\">\n",
       "<thead><tr><th>type</th><th>name</th><th>value</th><th>unit</th><th>error</th><th>min</th><th>max</th><th>frozen</th><th>is_norm</th><th>link</th></tr></thead>\n",
       "<thead><tr><th>str8</th><th>str15</th><th>float64</th><th>str5</th><th>int64</th><th>float64</th><th>float64</th><th>bool</th><th>bool</th><th>str1</th></tr></thead>\n",
       "<tr><td>spectral</td><td>log10_k_e</td><td>0.0000e+00</td><td></td><td>0.000e+00</td><td>-1.000e+01</td><td>1.000e+01</td><td>False</td><td>False</td><td></td></tr>\n",
       "<tr><td>spectral</td><td>p</td><td>2.0000e+00</td><td></td><td>0.000e+00</td><td>1.000e+00</td><td>5.000e+00</td><td>False</td><td>False</td><td></td></tr>\n",
       "<tr><td>spectral</td><td>q</td><td>2.0000e-01</td><td></td><td>0.000e+00</td><td>1.000e-03</td><td>1.000e+00</td><td>False</td><td>False</td><td></td></tr>\n",
       "<tr><td>spectral</td><td>log10_gamma_0</td><td>2.0000e+00</td><td></td><td>0.000e+00</td><td>2.000e+00</td><td>6.000e+00</td><td>True</td><td>False</td><td></td></tr>\n",
       "<tr><td>spectral</td><td>log10_gamma_min</td><td>0.0000e+00</td><td></td><td>0.000e+00</td><td>0.000e+00</td><td>4.000e+00</td><td>True</td><td>False</td><td></td></tr>\n",
       "<tr><td>spectral</td><td>log10_gamma_max</td><td>4.4771e+00</td><td></td><td>0.000e+00</td><td>4.000e+00</td><td>8.000e+00</td><td>True</td><td>False</td><td></td></tr>\n",
       "<tr><td>spectral</td><td>z</td><td>3.6100e-01</td><td></td><td>0.000e+00</td><td>1.000e-03</td><td>1.000e+01</td><td>True</td><td>False</td><td></td></tr>\n",
       "<tr><td>spectral</td><td>delta_D</td><td>2.5000e+01</td><td></td><td>0.000e+00</td><td>1.000e+00</td><td>1.000e+02</td><td>False</td><td>False</td><td></td></tr>\n",
       "<tr><td>spectral</td><td>log10_B</td><td>-4.5593e-01</td><td></td><td>0.000e+00</td><td>-4.000e+00</td><td>2.000e+00</td><td>False</td><td>False</td><td></td></tr>\n",
       "<tr><td>spectral</td><td>t_var</td><td>4.3200e+04</td><td>s</td><td>0.000e+00</td><td>1.000e+01</td><td>3.142e+07</td><td>True</td><td>False</td><td></td></tr>\n",
       "<tr><td>spectral</td><td>mu_s</td><td>9.9925e-01</td><td></td><td>0.000e+00</td><td>0.000e+00</td><td>1.000e+00</td><td>True</td><td>False</td><td></td></tr>\n",
       "<tr><td>spectral</td><td>log10_r</td><td>1.7778e+01</td><td></td><td>0.000e+00</td><td>1.600e+01</td><td>2.200e+01</td><td>True</td><td>False</td><td></td></tr>\n",
       "<tr><td>spectral</td><td>log10_L_disk</td><td>4.5826e+01</td><td></td><td>0.000e+00</td><td>4.200e+01</td><td>4.800e+01</td><td>True</td><td>False</td><td></td></tr>\n",
       "<tr><td>spectral</td><td>M_BH</td><td>1.1354e+41</td><td>g</td><td>0.000e+00</td><td>1.000e+32</td><td>1.000e+45</td><td>True</td><td>False</td><td></td></tr>\n",
       "<tr><td>spectral</td><td>m_dot</td><td>8.9457e+25</td><td>g s-1</td><td>0.000e+00</td><td>1.000e+24</td><td>1.000e+30</td><td>True</td><td>False</td><td></td></tr>\n",
       "<tr><td>spectral</td><td>R_in</td><td>5.0589e+13</td><td>cm</td><td>0.000e+00</td><td>1.000e+12</td><td>1.000e+16</td><td>True</td><td>False</td><td></td></tr>\n",
       "<tr><td>spectral</td><td>R_out</td><td>2.5295e+17</td><td>cm</td><td>0.000e+00</td><td>1.000e+12</td><td>1.000e+19</td><td>True</td><td>False</td><td></td></tr>\n",
       "<tr><td>spectral</td><td>xi_dt</td><td>6.0000e-01</td><td></td><td>0.000e+00</td><td>0.000e+00</td><td>1.000e+00</td><td>True</td><td>False</td><td></td></tr>\n",
       "<tr><td>spectral</td><td>T_dt</td><td>2.0000e+03</td><td>K</td><td>0.000e+00</td><td>1.000e+02</td><td>1.000e+04</td><td>True</td><td>False</td><td></td></tr>\n",
       "<tr><td>spectral</td><td>R_dt</td><td>6.4711e+18</td><td>cm</td><td>0.000e+00</td><td>1.000e+17</td><td>1.000e+20</td><td>True</td><td>False</td><td></td></tr>\n",
       "<tr><td>spectral</td><td>norm</td><td>1.0000e+00</td><td></td><td>0.000e+00</td><td>1.000e-01</td><td>1.000e+01</td><td>True</td><td>True</td><td></td></tr>\n",
       "</table></div>"
      ],
      "text/plain": [
       "<Table length=21>\n",
       "  type         name         value     unit   error      min        max    frozen is_norm link\n",
       "  str8        str15        float64    str5   int64    float64    float64   bool    bool  str1\n",
       "-------- --------------- ----------- ----- --------- ---------- --------- ------ ------- ----\n",
       "spectral       log10_k_e  0.0000e+00       0.000e+00 -1.000e+01 1.000e+01  False   False     \n",
       "spectral               p  2.0000e+00       0.000e+00  1.000e+00 5.000e+00  False   False     \n",
       "spectral               q  2.0000e-01       0.000e+00  1.000e-03 1.000e+00  False   False     \n",
       "spectral   log10_gamma_0  2.0000e+00       0.000e+00  2.000e+00 6.000e+00   True   False     \n",
       "spectral log10_gamma_min  0.0000e+00       0.000e+00  0.000e+00 4.000e+00   True   False     \n",
       "spectral log10_gamma_max  4.4771e+00       0.000e+00  4.000e+00 8.000e+00   True   False     \n",
       "spectral               z  3.6100e-01       0.000e+00  1.000e-03 1.000e+01   True   False     \n",
       "spectral         delta_D  2.5000e+01       0.000e+00  1.000e+00 1.000e+02  False   False     \n",
       "spectral         log10_B -4.5593e-01       0.000e+00 -4.000e+00 2.000e+00  False   False     \n",
       "spectral           t_var  4.3200e+04     s 0.000e+00  1.000e+01 3.142e+07   True   False     \n",
       "spectral            mu_s  9.9925e-01       0.000e+00  0.000e+00 1.000e+00   True   False     \n",
       "spectral         log10_r  1.7778e+01       0.000e+00  1.600e+01 2.200e+01   True   False     \n",
       "spectral    log10_L_disk  4.5826e+01       0.000e+00  4.200e+01 4.800e+01   True   False     \n",
       "spectral            M_BH  1.1354e+41     g 0.000e+00  1.000e+32 1.000e+45   True   False     \n",
       "spectral           m_dot  8.9457e+25 g s-1 0.000e+00  1.000e+24 1.000e+30   True   False     \n",
       "spectral            R_in  5.0589e+13    cm 0.000e+00  1.000e+12 1.000e+16   True   False     \n",
       "spectral           R_out  2.5295e+17    cm 0.000e+00  1.000e+12 1.000e+19   True   False     \n",
       "spectral           xi_dt  6.0000e-01       0.000e+00  0.000e+00 1.000e+00   True   False     \n",
       "spectral            T_dt  2.0000e+03     K 0.000e+00  1.000e+02 1.000e+04   True   False     \n",
       "spectral            R_dt  6.4711e+18    cm 0.000e+00  1.000e+17 1.000e+20   True   False     \n",
       "spectral            norm  1.0000e+00       0.000e+00  1.000e-01 1.000e+01   True    True     "
      ]
     },
     "execution_count": 5,
     "metadata": {},
     "output_type": "execute_result"
    }
   ],
   "source": [
    "ec_model.parameters.to_table()"
   ]
  },
  {
   "cell_type": "markdown",
   "id": "fb476623",
   "metadata": {},
   "source": [
    "or display separately the parameters related to the electrons energy distribution..."
   ]
  },
  {
   "cell_type": "code",
   "execution_count": 6,
   "id": "82ae22c9",
   "metadata": {},
   "outputs": [
    {
     "data": {
      "text/html": [
       "<div><i>Table length=6</i>\n",
       "<table id=\"table140170870737936\" class=\"table-striped table-bordered table-condensed\">\n",
       "<thead><tr><th>type</th><th>name</th><th>value</th><th>unit</th><th>error</th><th>min</th><th>max</th><th>frozen</th><th>is_norm</th><th>link</th></tr></thead>\n",
       "<thead><tr><th>str8</th><th>str15</th><th>float64</th><th>str1</th><th>int64</th><th>float64</th><th>float64</th><th>bool</th><th>bool</th><th>str1</th></tr></thead>\n",
       "<tr><td>spectral</td><td>log10_k_e</td><td>0.0000e+00</td><td></td><td>0.000e+00</td><td>-1.000e+01</td><td>1.000e+01</td><td>False</td><td>False</td><td></td></tr>\n",
       "<tr><td>spectral</td><td>p</td><td>2.0000e+00</td><td></td><td>0.000e+00</td><td>1.000e+00</td><td>5.000e+00</td><td>False</td><td>False</td><td></td></tr>\n",
       "<tr><td>spectral</td><td>q</td><td>2.0000e-01</td><td></td><td>0.000e+00</td><td>1.000e-03</td><td>1.000e+00</td><td>False</td><td>False</td><td></td></tr>\n",
       "<tr><td>spectral</td><td>log10_gamma_0</td><td>2.0000e+00</td><td></td><td>0.000e+00</td><td>2.000e+00</td><td>6.000e+00</td><td>True</td><td>False</td><td></td></tr>\n",
       "<tr><td>spectral</td><td>log10_gamma_min</td><td>0.0000e+00</td><td></td><td>0.000e+00</td><td>0.000e+00</td><td>4.000e+00</td><td>True</td><td>False</td><td></td></tr>\n",
       "<tr><td>spectral</td><td>log10_gamma_max</td><td>4.4771e+00</td><td></td><td>0.000e+00</td><td>4.000e+00</td><td>8.000e+00</td><td>True</td><td>False</td><td></td></tr>\n",
       "</table></div>"
      ],
      "text/plain": [
       "<Table length=6>\n",
       "  type         name        value    unit   error      min        max    frozen is_norm link\n",
       "  str8        str15       float64   str1   int64    float64    float64   bool    bool  str1\n",
       "-------- --------------- ---------- ---- --------- ---------- --------- ------ ------- ----\n",
       "spectral       log10_k_e 0.0000e+00      0.000e+00 -1.000e+01 1.000e+01  False   False     \n",
       "spectral               p 2.0000e+00      0.000e+00  1.000e+00 5.000e+00  False   False     \n",
       "spectral               q 2.0000e-01      0.000e+00  1.000e-03 1.000e+00  False   False     \n",
       "spectral   log10_gamma_0 2.0000e+00      0.000e+00  2.000e+00 6.000e+00   True   False     \n",
       "spectral log10_gamma_min 0.0000e+00      0.000e+00  0.000e+00 4.000e+00   True   False     \n",
       "spectral log10_gamma_max 4.4771e+00      0.000e+00  4.000e+00 8.000e+00   True   False     "
      ]
     },
     "execution_count": 6,
     "metadata": {},
     "output_type": "execute_result"
    }
   ],
   "source": [
    "ec_model.spectral_parameters.to_table()"
   ]
  },
  {
   "cell_type": "markdown",
   "id": "117ab2d0",
   "metadata": {},
   "source": [
    "and the parameters related to the emission region, the blob in this case"
   ]
  },
  {
   "cell_type": "code",
   "execution_count": 7,
   "id": "bdb7192c",
   "metadata": {},
   "outputs": [
    {
     "data": {
      "text/html": [
       "<div><i>Table length=6</i>\n",
       "<table id=\"table140170870738416\" class=\"table-striped table-bordered table-condensed\">\n",
       "<thead><tr><th>type</th><th>name</th><th>value</th><th>unit</th><th>error</th><th>min</th><th>max</th><th>frozen</th><th>is_norm</th><th>link</th></tr></thead>\n",
       "<thead><tr><th>str8</th><th>str7</th><th>float64</th><th>str1</th><th>int64</th><th>float64</th><th>float64</th><th>bool</th><th>bool</th><th>str1</th></tr></thead>\n",
       "<tr><td>spectral</td><td>z</td><td>3.6100e-01</td><td></td><td>0.000e+00</td><td>1.000e-03</td><td>1.000e+01</td><td>True</td><td>False</td><td></td></tr>\n",
       "<tr><td>spectral</td><td>delta_D</td><td>2.5000e+01</td><td></td><td>0.000e+00</td><td>1.000e+00</td><td>1.000e+02</td><td>False</td><td>False</td><td></td></tr>\n",
       "<tr><td>spectral</td><td>log10_B</td><td>-4.5593e-01</td><td></td><td>0.000e+00</td><td>-4.000e+00</td><td>2.000e+00</td><td>False</td><td>False</td><td></td></tr>\n",
       "<tr><td>spectral</td><td>t_var</td><td>4.3200e+04</td><td>s</td><td>0.000e+00</td><td>1.000e+01</td><td>3.142e+07</td><td>True</td><td>False</td><td></td></tr>\n",
       "<tr><td>spectral</td><td>mu_s</td><td>9.9925e-01</td><td></td><td>0.000e+00</td><td>0.000e+00</td><td>1.000e+00</td><td>True</td><td>False</td><td></td></tr>\n",
       "<tr><td>spectral</td><td>log10_r</td><td>1.7778e+01</td><td></td><td>0.000e+00</td><td>1.600e+01</td><td>2.200e+01</td><td>True</td><td>False</td><td></td></tr>\n",
       "</table></div>"
      ],
      "text/plain": [
       "<Table length=6>\n",
       "  type     name     value    unit   error      min        max    frozen is_norm link\n",
       "  str8     str7    float64   str1   int64    float64    float64   bool    bool  str1\n",
       "-------- ------- ----------- ---- --------- ---------- --------- ------ ------- ----\n",
       "spectral       z  3.6100e-01      0.000e+00  1.000e-03 1.000e+01   True   False     \n",
       "spectral delta_D  2.5000e+01      0.000e+00  1.000e+00 1.000e+02  False   False     \n",
       "spectral log10_B -4.5593e-01      0.000e+00 -4.000e+00 2.000e+00  False   False     \n",
       "spectral   t_var  4.3200e+04    s 0.000e+00  1.000e+01 3.142e+07   True   False     \n",
       "spectral    mu_s  9.9925e-01      0.000e+00  0.000e+00 1.000e+00   True   False     \n",
       "spectral log10_r  1.7778e+01      0.000e+00  1.600e+01 2.200e+01   True   False     "
      ]
     },
     "execution_count": 7,
     "metadata": {},
     "output_type": "execute_result"
    }
   ],
   "source": [
    "ec_model.emission_region_parameters.to_table()"
   ]
  },
  {
   "cell_type": "markdown",
   "id": "7916d810",
   "metadata": {},
   "source": [
    "in case of the `ExternalComptonSpectralModel`, we can display also the parameters of the targets (i.e. of the line and thermal emitters producing the photon targets for EC scattering. "
   ]
  },
  {
   "cell_type": "code",
   "execution_count": 8,
   "id": "a0d3c685",
   "metadata": {},
   "outputs": [
    {
     "data": {
      "text/html": [
       "<div><i>Table length=8</i>\n",
       "<table id=\"table140170870738656\" class=\"table-striped table-bordered table-condensed\">\n",
       "<thead><tr><th>type</th><th>name</th><th>value</th><th>unit</th><th>error</th><th>min</th><th>max</th><th>frozen</th><th>is_norm</th><th>link</th></tr></thead>\n",
       "<thead><tr><th>str8</th><th>str12</th><th>float64</th><th>str5</th><th>int64</th><th>float64</th><th>float64</th><th>bool</th><th>bool</th><th>str1</th></tr></thead>\n",
       "<tr><td>spectral</td><td>log10_L_disk</td><td>4.5826e+01</td><td></td><td>0.000e+00</td><td>4.200e+01</td><td>4.800e+01</td><td>True</td><td>False</td><td></td></tr>\n",
       "<tr><td>spectral</td><td>M_BH</td><td>1.1354e+41</td><td>g</td><td>0.000e+00</td><td>1.000e+32</td><td>1.000e+45</td><td>True</td><td>False</td><td></td></tr>\n",
       "<tr><td>spectral</td><td>m_dot</td><td>8.9457e+25</td><td>g s-1</td><td>0.000e+00</td><td>1.000e+24</td><td>1.000e+30</td><td>True</td><td>False</td><td></td></tr>\n",
       "<tr><td>spectral</td><td>R_in</td><td>5.0589e+13</td><td>cm</td><td>0.000e+00</td><td>1.000e+12</td><td>1.000e+16</td><td>True</td><td>False</td><td></td></tr>\n",
       "<tr><td>spectral</td><td>R_out</td><td>2.5295e+17</td><td>cm</td><td>0.000e+00</td><td>1.000e+12</td><td>1.000e+19</td><td>True</td><td>False</td><td></td></tr>\n",
       "<tr><td>spectral</td><td>xi_dt</td><td>6.0000e-01</td><td></td><td>0.000e+00</td><td>0.000e+00</td><td>1.000e+00</td><td>True</td><td>False</td><td></td></tr>\n",
       "<tr><td>spectral</td><td>T_dt</td><td>2.0000e+03</td><td>K</td><td>0.000e+00</td><td>1.000e+02</td><td>1.000e+04</td><td>True</td><td>False</td><td></td></tr>\n",
       "<tr><td>spectral</td><td>R_dt</td><td>6.4711e+18</td><td>cm</td><td>0.000e+00</td><td>1.000e+17</td><td>1.000e+20</td><td>True</td><td>False</td><td></td></tr>\n",
       "</table></div>"
      ],
      "text/plain": [
       "<Table length=8>\n",
       "  type       name       value     unit   error      min       max    frozen is_norm link\n",
       "  str8      str12      float64    str5   int64    float64   float64   bool    bool  str1\n",
       "-------- ------------ ---------- ----- --------- --------- --------- ------ ------- ----\n",
       "spectral log10_L_disk 4.5826e+01       0.000e+00 4.200e+01 4.800e+01   True   False     \n",
       "spectral         M_BH 1.1354e+41     g 0.000e+00 1.000e+32 1.000e+45   True   False     \n",
       "spectral        m_dot 8.9457e+25 g s-1 0.000e+00 1.000e+24 1.000e+30   True   False     \n",
       "spectral         R_in 5.0589e+13    cm 0.000e+00 1.000e+12 1.000e+16   True   False     \n",
       "spectral        R_out 2.5295e+17    cm 0.000e+00 1.000e+12 1.000e+19   True   False     \n",
       "spectral        xi_dt 6.0000e-01       0.000e+00 0.000e+00 1.000e+00   True   False     \n",
       "spectral         T_dt 2.0000e+03     K 0.000e+00 1.000e+02 1.000e+04   True   False     \n",
       "spectral         R_dt 6.4711e+18    cm 0.000e+00 1.000e+17 1.000e+20   True   False     "
      ]
     },
     "execution_count": 8,
     "metadata": {},
     "output_type": "execute_result"
    }
   ],
   "source": [
    "ec_model.targets_parameters.to_table()"
   ]
  },
  {
   "cell_type": "markdown",
   "id": "a1e350e0",
   "metadata": {},
   "source": [
    "### Fit with `gammapy`\n",
    "Here we start the procedure to fit with Gammapy.\n",
    "\n",
    "#### 1) load the MWL flux points, add systematics\n",
    "A function is provided in `agnpy.fit` to directly load flux points in a `gammapy.estimators.FluxPoints` object. It reads the data from a file, included in the package, containing a MWL SED following [these specifications](https://gamma-astro-data-formats.readthedocs.io/en/v0.2/spectra/flux_points/index.html).\n",
    "\n",
    "The same function allows to add a systematic error on the flux points, this is done with a dictionary specifying the instrument name and the systematic error, expressed as a relative error on the flux. The systematic error in summed in quadrature to the statistical error.\n",
    "\n",
    "In this example, we use a very rough and conservative estimate of the systematic errors ($30\\%$ of the flux for VHE instruments, $10\\%$ for HE and X-ray instruments, $5\\%$ for all the other instruments).\n",
    "\n",
    "Specifying the systematic errors through the dictionary is optional.\n",
    "\n",
    "We can also set the minimum and maximum energy to be used in the fit. We exclude points below $10^{11}\\,{\\rm Hz}$, as they are measured in the radio band with large integration regions. They hence include the extended emission of the jet, while in our model we are considering the emission from a finite region of the jet, the blob."
   ]
  },
  {
   "cell_type": "code",
   "execution_count": 9,
   "id": "6f7b9bc1",
   "metadata": {},
   "outputs": [
    {
     "name": "stderr",
     "output_type": "stream",
     "text": [
      "No reference model set for FluxMaps. Assuming point source with E^-2 spectrum.\n",
      "No reference model set for FluxMaps. Assuming point source with E^-2 spectrum.\n",
      "No reference model set for FluxMaps. Assuming point source with E^-2 spectrum.\n",
      "No reference model set for FluxMaps. Assuming point source with E^-2 spectrum.\n",
      "No reference model set for FluxMaps. Assuming point source with E^-2 spectrum.\n",
      "No reference model set for FluxMaps. Assuming point source with E^-2 spectrum.\n",
      "No reference model set for FluxMaps. Assuming point source with E^-2 spectrum.\n",
      "No reference model set for FluxMaps. Assuming point source with E^-2 spectrum.\n",
      "No reference model set for FluxMaps. Assuming point source with E^-2 spectrum.\n",
      "No reference model set for FluxMaps. Assuming point source with E^-2 spectrum.\n",
      "No reference model set for FluxMaps. Assuming point source with E^-2 spectrum.\n",
      "No reference model set for FluxMaps. Assuming point source with E^-2 spectrum.\n",
      "No reference model set for FluxMaps. Assuming point source with E^-2 spectrum.\n",
      "No reference model set for FluxMaps. Assuming point source with E^-2 spectrum.\n",
      "No reference model set for FluxMaps. Assuming point source with E^-2 spectrum.\n",
      "No reference model set for FluxMaps. Assuming point source with E^-2 spectrum.\n"
     ]
    }
   ],
   "source": [
    "systematics_dict = {\n",
    "    \"Fermi-LAT\": 0.10,\n",
    "    \"KVA1\": 0.05,\n",
    "    \"KVA2\": 0.05,\n",
    "    \"MAGIC\": 0.30,\n",
    "    \"Metsahovi\": 0.05,\n",
    "    \"NICS1\": 0.05,\n",
    "    \"NICS2\": 0.05,\n",
    "    \"SMART1\": 0.05,\n",
    "    \"Swift-XRT\": 0.10,\n",
    "    \"TCS1\": 0.05,\n",
    "    \"TCS2\": 0.05,\n",
    "    \"TCS3\": 0.05,\n",
    "    \"TCS4\": 0.05,\n",
    "    \"TCS5\": 0.05,\n",
    "    \"TCS6\": 0.05,\n",
    "    \"UVOT\": 0.05,\n",
    "}\n",
    "\n",
    "# min and max energy to be considered in the fit\n",
    "E_min = (1e11 * u.Hz).to(\"eV\", equivalencies=u.spectral())\n",
    "E_max = 100 * u.TeV\n",
    "\n",
    "datasets = load_gammapy_flux_points(\n",
    "    \"../../agnpy/data/mwl_seds/PKS1510-089_2015b.ecsv\", E_min, E_max, systematics_dict\n",
    ")"
   ]
  },
  {
   "cell_type": "markdown",
   "id": "673ab97e",
   "metadata": {},
   "source": [
    "For the gammapy wrapper, we have to define a spectral model and associate it to the list of datasets we obtained from the flux points."
   ]
  },
  {
   "cell_type": "code",
   "execution_count": 10,
   "id": "3159dc0e",
   "metadata": {},
   "outputs": [
    {
     "name": "stderr",
     "output_type": "stream",
     "text": [
      "/Users/cosimo/work/agnpy/agnpy/synchrotron/synchrotron.py:66: RuntimeWarning: divide by zero encountered in true_divide\n",
      "  u = 1 / 2 + np.exp(-tau) / tau - (1 - np.exp(-tau)) / np.power(tau, 2)\n",
      "/Users/cosimo/work/agnpy/agnpy/synchrotron/synchrotron.py:66: RuntimeWarning: invalid value encountered in true_divide\n",
      "  u = 1 / 2 + np.exp(-tau) / tau - (1 - np.exp(-tau)) / np.power(tau, 2)\n",
      "/Users/cosimo/software/miniconda3/envs/gammapy-0.20.1/lib/python3.8/site-packages/astropy/units/quantity.py:613: RuntimeWarning: divide by zero encountered in true_divide\n",
      "  result = super().__array_ufunc__(function, method, *arrays, **kwargs)\n",
      "/Users/cosimo/software/miniconda3/envs/gammapy-0.20.1/lib/python3.8/site-packages/astropy/units/quantity.py:613: RuntimeWarning: overflow encountered in expm1\n",
      "  result = super().__array_ufunc__(function, method, *arrays, **kwargs)\n",
      "/Users/cosimo/software/miniconda3/envs/gammapy-0.20.1/lib/python3.8/site-packages/astropy/units/quantity.py:613: RuntimeWarning: overflow encountered in multiply\n",
      "  result = super().__array_ufunc__(function, method, *arrays, **kwargs)\n"
     ]
    }
   ],
   "source": [
    "sky_model = SkyModel(spectral_model=ec_model, name=\"PKS1510-089\")\n",
    "datasets.models = [sky_model]"
   ]
  },
  {
   "cell_type": "markdown",
   "id": "51031e9d",
   "metadata": {},
   "source": [
    "Let us plot all the flux points and the initial model "
   ]
  },
  {
   "cell_type": "code",
   "execution_count": 11,
   "id": "c6f335de",
   "metadata": {},
   "outputs": [
    {
     "data": {
      "image/png": "[encoded data removed]",
      "text/plain": [
       "<Figure size 576x432 with 1 Axes>"
      ]
     },
     "metadata": {
      "needs_background": "light"
     },
     "output_type": "display_data"
    }
   ],
   "source": [
    "fig, ax = plt.subplots(figsize=(8, 6))\n",
    "\n",
    "for dataset in datasets:\n",
    "    dataset.data.plot(ax=ax, label=dataset.name)\n",
    "\n",
    "ec_model.plot(\n",
    "    ax=ax,\n",
    "    energy_bounds=[1e-6, 1e14] * u.eV,\n",
    "    energy_power=2,\n",
    "    label=\"EC model\",\n",
    "    color=\"k\",\n",
    "    lw=1.6,\n",
    ")\n",
    "\n",
    "ax.set_ylabel(sed_y_label)\n",
    "ax.set_xlabel(r\"$E\\,/\\,{\\rm eV}$\")\n",
    "ax.set_xlim([1e-5, 1e12])\n",
    "ax.set_ylim([1e-13, 1e-8])\n",
    "ax.legend(ncol=4, fontsize=9)\n",
    "\n",
    "plt.show()"
   ]
  },
  {
   "cell_type": "markdown",
   "id": "78cbcbff",
   "metadata": {},
   "source": [
    "#### 3) run the fit"
   ]
  },
  {
   "cell_type": "code",
   "execution_count": 12,
   "id": "ed5204a0",
   "metadata": {},
   "outputs": [
    {
     "name": "stderr",
     "output_type": "stream",
     "text": [
      "/Users/cosimo/work/agnpy/agnpy/synchrotron/synchrotron.py:67: RuntimeWarning: overflow encountered in true_divide\n",
      "  return np.where(tau < 1e-3, 1, 3 * u / tau)\n",
      "/Users/cosimo/work/agnpy/agnpy/synchrotron/synchrotron.py:66: RuntimeWarning: divide by zero encountered in true_divide\n",
      "  u = 1 / 2 + np.exp(-tau) / tau - (1 - np.exp(-tau)) / np.power(tau, 2)\n",
      "/Users/cosimo/work/agnpy/agnpy/synchrotron/synchrotron.py:66: RuntimeWarning: invalid value encountered in true_divide\n",
      "  u = 1 / 2 + np.exp(-tau) / tau - (1 - np.exp(-tau)) / np.power(tau, 2)\n",
      "/Users/cosimo/software/miniconda3/envs/gammapy-0.20.1/lib/python3.8/site-packages/astropy/units/quantity.py:613: RuntimeWarning: divide by zero encountered in true_divide\n",
      "  result = super().__array_ufunc__(function, method, *arrays, **kwargs)\n",
      "/Users/cosimo/software/miniconda3/envs/gammapy-0.20.1/lib/python3.8/site-packages/astropy/units/quantity.py:613: RuntimeWarning: overflow encountered in expm1\n",
      "  result = super().__array_ufunc__(function, method, *arrays, **kwargs)\n",
      "/Users/cosimo/software/miniconda3/envs/gammapy-0.20.1/lib/python3.8/site-packages/astropy/units/quantity.py:613: RuntimeWarning: overflow encountered in multiply\n",
      "  result = super().__array_ufunc__(function, method, *arrays, **kwargs)\n"
     ]
    },
    {
     "name": "stdout",
     "output_type": "stream",
     "text": [
      "CPU times: user 4min 18s, sys: 13.4 s, total: 4min 32s\n",
      "Wall time: 4min 33s\n"
     ]
    }
   ],
   "source": [
    "%%time\n",
    "# define the fitter\n",
    "fitter = Fit()\n",
    "results = fitter.run(datasets)"
   ]
  },
  {
   "cell_type": "code",
   "execution_count": 13,
   "id": "4e95d740",
   "metadata": {},
   "outputs": [
    {
     "name": "stdout",
     "output_type": "stream",
     "text": [
      "OptimizeResult\n",
      "\n",
      "\tbackend    : minuit\n",
      "\tmethod     : migrad\n",
      "\tsuccess    : True\n",
      "\tmessage    : Optimization terminated successfully.\n",
      "\tnfev       : 317\n",
      "\ttotal stat : 220.71\n",
      "\n",
      "CovarianceResult\n",
      "\n",
      "\tbackend    : minuit\n",
      "\tmethod     : hesse\n",
      "\tsuccess    : True\n",
      "\tmessage    : Hesse terminated successfully.\n",
      "\n",
      "  type         name         value     unit   error      min        max    frozen is_norm link\n",
      "-------- --------------- ----------- ----- --------- ---------- --------- ------ ------- ----\n",
      "spectral       log10_k_e  2.4521e-01       1.577e-01 -1.000e+01 1.000e+01  False   False     \n",
      "spectral               p  2.1681e+00       1.243e-01  1.000e+00 5.000e+00  False   False     \n",
      "spectral               q  3.3617e-01       3.368e-02  1.000e-03 1.000e+00  False   False     \n",
      "spectral   log10_gamma_0  2.0000e+00       0.000e+00  2.000e+00 6.000e+00   True   False     \n",
      "spectral log10_gamma_min  0.0000e+00       0.000e+00  0.000e+00 4.000e+00   True   False     \n",
      "spectral log10_gamma_max  4.4771e+00       0.000e+00  4.000e+00 8.000e+00   True   False     \n",
      "spectral               z  3.6100e-01       0.000e+00  1.000e-03 1.000e+01   True   False     \n",
      "spectral         delta_D  2.5823e+01       1.788e+00  1.000e+00 1.000e+02  False   False     \n",
      "spectral         log10_B -4.0655e-01       3.696e-02 -4.000e+00 2.000e+00  False   False     \n",
      "spectral           t_var  4.3200e+04     s 0.000e+00  1.000e+01 3.142e+07   True   False     \n",
      "spectral            mu_s  9.9925e-01       0.000e+00  0.000e+00 1.000e+00   True   False     \n",
      "spectral         log10_r  1.7778e+01       0.000e+00  1.600e+01 2.200e+01   True   False     \n",
      "spectral    log10_L_disk  4.5826e+01       0.000e+00  4.200e+01 4.800e+01   True   False     \n",
      "spectral            M_BH  1.1354e+41     g 0.000e+00  1.000e+32 1.000e+45   True   False     \n",
      "spectral           m_dot  8.9457e+25 g s-1 0.000e+00  1.000e+24 1.000e+30   True   False     \n",
      "spectral            R_in  5.0589e+13    cm 0.000e+00  1.000e+12 1.000e+16   True   False     \n",
      "spectral           R_out  2.5295e+17    cm 0.000e+00  1.000e+12 1.000e+19   True   False     \n",
      "spectral           xi_dt  6.0000e-01       0.000e+00  0.000e+00 1.000e+00   True   False     \n",
      "spectral            T_dt  2.0000e+03     K 0.000e+00  1.000e+02 1.000e+04   True   False     \n",
      "spectral            R_dt  6.4711e+18    cm 0.000e+00  1.000e+17 1.000e+20   True   False     \n",
      "spectral            norm  1.0000e+00       0.000e+00  1.000e-01 1.000e+01   True    True     \n"
     ]
    }
   ],
   "source": [
    "print(results)\n",
    "print(ec_model.parameters.to_table())"
   ]
  },
  {
   "cell_type": "markdown",
   "id": "3907095b",
   "metadata": {},
   "source": [
    "Now let us plot the final model and the flux points"
   ]
  },
  {
   "cell_type": "code",
   "execution_count": 14,
   "id": "4aaa6815",
   "metadata": {},
   "outputs": [
    {
     "name": "stderr",
     "output_type": "stream",
     "text": [
      "/Users/cosimo/work/agnpy/agnpy/synchrotron/synchrotron.py:66: RuntimeWarning: divide by zero encountered in true_divide\n",
      "  u = 1 / 2 + np.exp(-tau) / tau - (1 - np.exp(-tau)) / np.power(tau, 2)\n",
      "/Users/cosimo/work/agnpy/agnpy/synchrotron/synchrotron.py:66: RuntimeWarning: invalid value encountered in true_divide\n",
      "  u = 1 / 2 + np.exp(-tau) / tau - (1 - np.exp(-tau)) / np.power(tau, 2)\n",
      "/Users/cosimo/software/miniconda3/envs/gammapy-0.20.1/lib/python3.8/site-packages/astropy/units/quantity.py:613: RuntimeWarning: divide by zero encountered in true_divide\n",
      "  result = super().__array_ufunc__(function, method, *arrays, **kwargs)\n",
      "/Users/cosimo/software/miniconda3/envs/gammapy-0.20.1/lib/python3.8/site-packages/astropy/units/quantity.py:613: RuntimeWarning: overflow encountered in expm1\n",
      "  result = super().__array_ufunc__(function, method, *arrays, **kwargs)\n",
      "/Users/cosimo/software/miniconda3/envs/gammapy-0.20.1/lib/python3.8/site-packages/astropy/units/quantity.py:613: RuntimeWarning: overflow encountered in multiply\n",
      "  result = super().__array_ufunc__(function, method, *arrays, **kwargs)\n"
     ]
    },
    {
     "data": {
      "image/png": "[encoded data removed]",
      "text/plain": [
       "<Figure size 576x432 with 1 Axes>"
      ]
     },
     "metadata": {
      "needs_background": "light"
     },
     "output_type": "display_data"
    }
   ],
   "source": [
    "fig, ax = plt.subplots(figsize=(8, 6))\n",
    "\n",
    "for dataset in datasets:\n",
    "    dataset.data.plot(ax=ax, label=dataset.name)\n",
    "\n",
    "ec_model.plot(\n",
    "    ax=ax,\n",
    "    energy_bounds=[1e-6, 1e14] * u.eV,\n",
    "    energy_power=2,\n",
    "    label=\"model\",\n",
    "    color=\"k\",\n",
    "    lw=1.6,\n",
    ")\n",
    "\n",
    "ax.set_ylabel(sed_y_label)\n",
    "ax.set_xlabel(r\"$E\\,/\\,{\\rm eV}$\")\n",
    "ax.set_xlim([1e-5, 1e12])\n",
    "ax.set_ylim([1e-13, 1e-8])\n",
    "ax.legend(ncol=4, fontsize=9)\n",
    "\n",
    "plt.show()"
   ]
  }
 ],
 "metadata": {
  "interpreter": {
   "hash": "a5cf2102067dc15f2ebf0f2821ba443678c455e87ade8e96a896230febab46ba"
  },
  "kernelspec": {
   "display_name": "Python 3 (ipykernel)",
   "language": "python",
   "name": "python3"
  },
  "language_info": {
   "codemirror_mode": {
    "name": "ipython",
    "version": 3
   },
   "file_extension": ".py",
   "mimetype": "text/x-python",
   "name": "python",
   "nbconvert_exporter": "python",
   "pygments_lexer": "ipython3",
   "version": "3.8.13"
  }
 },
 "nbformat": 4,
 "nbformat_minor": 5
}

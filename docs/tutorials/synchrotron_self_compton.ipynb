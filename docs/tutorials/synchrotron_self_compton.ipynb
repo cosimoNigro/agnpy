{
 "cells": [
  {
   "cell_type": "markdown",
   "metadata": {},
   "source": [
    "## Tutorial: Synchrotron and Synchrotron Self Compton\n",
    "In this tutorial we will show how to compute the Spectral Energy Distribution produced by the Synchrotron and Synchrotron Self-Compton radiative processes in a jetted AGN."
   ]
  },
  {
   "cell_type": "code",
   "execution_count": null,
   "metadata": {},
   "outputs": [],
   "source": [
    "# import numpy, astropy and matplotlib for basic functionalities\n",
    "import numpy as np\n",
    "import astropy.units as u\n",
    "import astropy.constants as const\n",
    "from astropy.coordinates import Distance\n",
    "import matplotlib.pyplot as plt\n",
    "from IPython.display import Image"
   ]
  },
  {
   "cell_type": "code",
   "execution_count": null,
   "metadata": {},
   "outputs": [],
   "source": [
    "# import agnpy classes\n",
    "from agnpy.emission_regions import Blob\n",
    "from agnpy.synchrotron import Synchrotron\n",
    "from agnpy.compton import SynchrotronSelfCompton\n",
    "from agnpy.utils.plot import plot_sed, load_mpl_rc\n",
    "load_mpl_rc()"
   ]
  },
  {
   "cell_type": "markdown",
   "metadata": {},
   "source": [
    "### Emission Region\n",
    "Let us consider that the emission region is a spherical plasmoid of radius $R_b = 10^{16}\\,\\mathrm{cm}$, streaming with Lorentz factor $\\Gamma=10$ in the AGN jet, resulting in a Doppler boosting of $\\delta_D=10$ (the jet is almost aligned with the observer's line of sight). The galaxy hosting the active nucleus is at a distance of $d_L=10^{27}\\,\\mathrm{cm}$. The blob has a tangled magnetic field $B=1\\,\\mathrm{G}$. The electron spectrum is described by a power law with index $-2.8$ and a total energy content of $W_e = 10^{48}\\,{\\rm erg}$."
   ]
  },
  {
   "cell_type": "code",
   "execution_count": null,
   "metadata": {},
   "outputs": [],
   "source": [
    "# total energy content of the electron distribution\n",
    "spectrum_norm = 1e48 * u.Unit(\"erg\") \n",
    "# dictionary describing the electron distribution\n",
    "spectrum_dict = {\n",
    "    \"type\": \"PowerLaw\", \n",
    "    \"parameters\": {\n",
    "        \"p\": 2.8, \n",
    "        \"gamma_min\": 1e2, \n",
    "        \"gamma_max\": 1e7\n",
    "    }\n",
    "}\n",
    "R_b = 1e16 * u.cm\n",
    "B = 1 * u.G\n",
    "z = Distance(1e27, unit=u.cm).z\n",
    "delta_D = 10\n",
    "Gamma = 10\n",
    "# emission region\n",
    "blob = Blob(R_b, z, delta_D, Gamma, B, spectrum_norm, spectrum_dict)"
   ]
  },
  {
   "cell_type": "code",
   "execution_count": null,
   "metadata": {},
   "outputs": [],
   "source": [
    "# the blob object is printable, returning a summary of its properties\n",
    "print(blob)"
   ]
  },
  {
   "cell_type": "code",
   "execution_count": null,
   "metadata": {},
   "outputs": [],
   "source": [
    "# we can also print the total electrons number and energy\n",
    "print(f\"total particle number: {blob.N_e_tot:.2e}\")\n",
    "print(f\"total energy in electrons: {blob.W_e:.2e}\")"
   ]
  },
  {
   "cell_type": "code",
   "execution_count": null,
   "metadata": {},
   "outputs": [],
   "source": [
    "# as well as the jet power in particles and magnetic fields (see the documentation for more details)\n",
    "print(f\"jet power in particles: {blob.P_jet_e:.2e}\")\n",
    "print(f\"jet power in magnetic field: {blob.P_jet_B:.2e}\")"
   ]
  },
  {
   "cell_type": "markdown",
   "metadata": {},
   "source": [
    "### Synchrotron Radiation\n",
    "To intitialise the object that will compute the synchrotron radiation, we simply pass the `Blob` instance to the `Synchrotron` class. The synchrotron self absorption can be considered when computing the SED."
   ]
  },
  {
   "cell_type": "code",
   "execution_count": null,
   "metadata": {},
   "outputs": [],
   "source": [
    "synch = Synchrotron(blob)\n",
    "synch_ssa = Synchrotron(blob, ssa=True)"
   ]
  },
  {
   "cell_type": "code",
   "execution_count": null,
   "metadata": {},
   "outputs": [],
   "source": [
    "# let us define now a grid of frequencies over which to calculate the synchrotron SED\n",
    "nu_syn = np.logspace(8, 23) * u.Hz\n",
    "# let us compute a synchrotron, and a self-absorbed synchrotron SED\n",
    "synch_sed = synch.sed_flux(nu_syn)\n",
    "synch_sed_ssa = synch_ssa.sed_flux(nu_syn)"
   ]
  },
  {
   "cell_type": "code",
   "execution_count": null,
   "metadata": {},
   "outputs": [],
   "source": [
    "plot_sed(nu_syn, synch_sed, color=\"k\", label=\"synchr.\")\n",
    "plot_sed(nu_syn, synch_sed_ssa, ls=\"--\", color=\"gray\", label=\"self absorbed synchr.\")\n",
    "plt.show()"
   ]
  },
  {
   "cell_type": "markdown",
   "metadata": {},
   "source": [
    "### Synchrotron Self-Compton Radiation\n",
    "Similarly to the synchrotron case, to intitialise the object that will compute the synchrotron self-Compton (SSC) radiation, we simply pass the `Blob` instance to the `SynchrotronSelfCompton` class.       \n",
    "We examine also the case produced by scattering over a self-absorbed synchrotron spectrum."
   ]
  },
  {
   "cell_type": "code",
   "execution_count": null,
   "metadata": {},
   "outputs": [],
   "source": [
    "# simple ssc\n",
    "ssc = SynchrotronSelfCompton(blob)\n",
    "# ssc over a self-absorbed synchrotron spectrum\n",
    "ssc_ssa = SynchrotronSelfCompton(blob, ssa=True)"
   ]
  },
  {
   "cell_type": "code",
   "execution_count": null,
   "metadata": {},
   "outputs": [],
   "source": [
    "nu_ssc = np.logspace(15, 30) * u.Hz\n",
    "sed_ssc = ssc.sed_flux(nu_ssc)\n",
    "sed_ssc_ssa = ssc_ssa.sed_flux(nu_ssc)"
   ]
  },
  {
   "cell_type": "code",
   "execution_count": null,
   "metadata": {},
   "outputs": [],
   "source": [
    "plot_sed(nu_ssc, sed_ssc, color=\"k\", label=\"SSC\")\n",
    "plot_sed(nu_ssc, sed_ssc_ssa, ls=\"--\", color=\"gray\", label=\"SSC with SSA\")\n",
    "plt.show()"
   ]
  },
  {
   "cell_type": "markdown",
   "metadata": {},
   "source": [
    "### Literature Check from Dermer and Menon (2009)\n",
    "In order to provide a cross-check with the literature, we reproduce Figure 7.4 of Dermer and Menon (2009) - [see bibliography in the docs](https://agnpy.readthedocs.io/en/latest/bibliography.html). The figure, reported here, depicts two complete synchrotron and SSC SEDs, generated by the same emission regions distinguished only by the different maximum Lorentz factor of their electron distributions ($\\gamma_{\\rm max} = 10^5$ and $\\gamma_{\\rm max} = 10^7$). "
   ]
  },
  {
   "cell_type": "code",
   "execution_count": null,
   "metadata": {},
   "outputs": [],
   "source": [
    "Image(\"figures/figure_7_4_dermer_2009.png\", width = 600, height = 400)"
   ]
  },
  {
   "cell_type": "markdown",
   "metadata": {},
   "source": [
    "The `Blob` previosuly defined is already set with the parameters reproducing the example with $\\gamma_{\\rm max} = 10^7$, let us create a new `Blob` containing an electron distribution with $\\gamma_{\\rm max} = 10^5$."
   ]
  },
  {
   "cell_type": "code",
   "execution_count": null,
   "metadata": {},
   "outputs": [],
   "source": [
    "spectrum_dict[\"parameters\"][\"gamma_max\"] = 1e5\n",
    "blob2 = Blob(R_b, z, delta_D, Gamma, B, spectrum_norm, spectrum_dict)\n",
    "synch2 = Synchrotron(blob2)\n",
    "ssc2 = SynchrotronSelfCompton(blob2)"
   ]
  },
  {
   "cell_type": "code",
   "execution_count": null,
   "metadata": {},
   "outputs": [],
   "source": [
    "plot_sed(nu_syn, synch.sed_flux(nu_syn), color=\"k\", label=r\"${\\rm synch},\\,\\gamma_{\\rm max}=10^7$\")\n",
    "plot_sed(nu_ssc, ssc.sed_flux(nu_ssc), color=\"k\", label=r\"${\\rm SSC},\\,\\gamma_{\\rm max}=10^7$\")\n",
    "plot_sed(nu_syn, synch2.sed_flux(nu_syn), color=\"crimson\", label=r\"${\\rm synch},\\,\\gamma_{\\rm max}=10^5$\")\n",
    "plot_sed(nu_ssc, ssc2.sed_flux(nu_ssc), color=\"crimson\", label=r\"${\\rm SSC},\\,\\gamma_{\\rm max}=10^5$\")\n",
    "# select the same x and y range of the figure\n",
    "plt.xlim([1e9, 1e30])\n",
    "plt.ylim([1e-12, 1e-9])\n",
    "plt.show()"
   ]
  }
 ],
 "metadata": {
  "kernelspec": {
   "display_name": "Python 3 (ipykernel)",
   "language": "python",
   "name": "python3"
  },
  "language_info": {
   "codemirror_mode": {
    "name": "ipython",
    "version": 3
   },
   "file_extension": ".py",
   "mimetype": "text/x-python",
   "name": "python",
   "nbconvert_exporter": "python",
   "pygments_lexer": "ipython3",
   "version": "3.8.13"
  }
 },
 "nbformat": 4,
 "nbformat_minor": 2
}

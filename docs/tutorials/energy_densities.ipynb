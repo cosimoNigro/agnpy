{
 "cells": [
  {
   "cell_type": "markdown",
   "metadata": {},
   "source": [
    "# Tutorial: Energy Densities of the Photon Targets\n",
    "\n",
    "In this tutorial we will examine the integrated energy densities, $u [{\\rm erg}\\,{\\rm cm}^{-3}]$, produced by the different photon fields that can be subject to inverse Compton scattering."
   ]
  },
  {
   "cell_type": "code",
   "execution_count": null,
   "metadata": {},
   "outputs": [],
   "source": [
    "import numpy as np\n",
    "import astropy.units as u\n",
    "from astropy.constants import M_sun\n",
    "from astropy.coordinates import Distance\n",
    "import matplotlib.pyplot as plt"
   ]
  },
  {
   "cell_type": "code",
   "execution_count": null,
   "metadata": {},
   "outputs": [],
   "source": [
    "from agnpy.targets import SSDisk, SphericalShellBLR, RingDustTorus, PointSourceBehindJet\n",
    "from agnpy.emission_regions import Blob\n",
    "from agnpy.utils.plot import load_mpl_rc\n",
    "\n",
    "# matplotlib adjustments\n",
    "load_mpl_rc()\n",
    "u_label = r\"$u\\,/\\,{\\rm erg}\\,{\\rm cm}^{-3}$\"\n",
    "u_prime_label = r\"$u'\\,/\\,{\\rm erg}\\,{\\rm cm}^{-3}$\"\n",
    "r_label = r\"$r\\,/\\,{\\rm cm}$\""
   ]
  },
  {
   "cell_type": "markdown",
   "metadata": {},
   "source": [
    "## Shakura Sunyeav Disk"
   ]
  },
  {
   "cell_type": "code",
   "execution_count": null,
   "metadata": {},
   "outputs": [],
   "source": [
    "M_BH = 1e9 * M_sun\n",
    "L_disk = 1e46 * u.Unit(\"erg s-1\")\n",
    "eta = 1 / 12\n",
    "R_tilde_in = 6\n",
    "R_tilde_out = 200\n",
    "disk = SSDisk(M_BH, L_disk, eta, R_tilde_in, R_tilde_out, R_g_units=True)\n",
    "print(disk)"
   ]
  },
  {
   "cell_type": "markdown",
   "metadata": {},
   "source": [
    "Let us define an array of distances over which we will calculate the integrated energy density $u$, using the `u` class function. Note that by default the energy density is computed in a stationary frame centred in the galaxy."
   ]
  },
  {
   "cell_type": "code",
   "execution_count": null,
   "metadata": {},
   "outputs": [],
   "source": [
    "r = np.logspace(15, 21) * u.cm\n",
    "u_disk = disk.u(r)"
   ]
  },
  {
   "cell_type": "code",
   "execution_count": null,
   "metadata": {},
   "outputs": [],
   "source": [
    "plt.loglog(r, u_disk)\n",
    "plt.ylabel(u_label)\n",
    "plt.xlabel(r_label)\n",
    "plt.show()"
   ]
  },
  {
   "cell_type": "markdown",
   "metadata": {},
   "source": [
    "Now let us simulate a point source behind the jet with the same luminosity as the disk. In the limit of large\n",
    "distances the disk energy density should tend to the one of the point source. The point source behind the jet is monochromatic, we assume it has the same dimensionless energy as the photons emitted at the innermost disk radius."
   ]
  },
  {
   "cell_type": "code",
   "execution_count": null,
   "metadata": {},
   "outputs": [],
   "source": [
    "ps = PointSourceBehindJet(L_disk, disk.epsilon(disk.R_in))"
   ]
  },
  {
   "cell_type": "code",
   "execution_count": null,
   "metadata": {},
   "outputs": [],
   "source": [
    "u_ps = ps.u(r)\n",
    "plt.loglog(r, u_disk, label=\"SS Disk\")\n",
    "plt.loglog(r, u_ps, ls=\"--\", label=\"point source behind jet\")\n",
    "plt.ylabel(u_label)\n",
    "plt.xlabel(r_label)\n",
    "plt.legend()\n",
    "plt.show()"
   ]
  },
  {
   "cell_type": "code",
   "execution_count": null,
   "metadata": {},
   "outputs": [],
   "source": [
    "print(u_ps / u_disk)"
   ]
  },
  {
   "cell_type": "markdown",
   "metadata": {},
   "source": [
    "Let us see if the two energy densities also overlap in the case of large distances in the frame comoving with the blob. To compute the energy density in such a frame we just have to pass a `Blob` instance to the `u` function"
   ]
  },
  {
   "cell_type": "code",
   "execution_count": null,
   "metadata": {},
   "outputs": [],
   "source": [
    "# set the spectrum normalisation (total energy in electrons in this case)\n",
    "spectrum_norm = 1e48 * u.Unit(\"erg\")\n",
    "# define the spectral function through a dictionary\n",
    "spectrum_dict = {\n",
    "    \"type\": \"PowerLaw\",\n",
    "    \"parameters\": {\"p\": 2.8, \"gamma_min\": 1e2, \"gamma_max\": 1e7},\n",
    "}\n",
    "R_b = 1e16 * u.cm\n",
    "B = 1 * u.G\n",
    "z = Distance(1e27, unit=u.cm).z\n",
    "delta_D = 10\n",
    "Gamma = 10\n",
    "blob = Blob(R_b, z, delta_D, Gamma, B, spectrum_norm, spectrum_dict)"
   ]
  },
  {
   "cell_type": "code",
   "execution_count": null,
   "metadata": {},
   "outputs": [],
   "source": [
    "u_prime_disk = disk.u(r, blob)\n",
    "u_prime_ps = ps.u(r, blob)"
   ]
  },
  {
   "cell_type": "code",
   "execution_count": null,
   "metadata": {},
   "outputs": [],
   "source": [
    "plt.loglog(r, u_prime_disk, label=\"SS Disk\")\n",
    "plt.loglog(r, u_prime_ps, ls=\"--\", label=\"point source behind jet\")\n",
    "plt.ylabel(u_prime_label)\n",
    "plt.xlabel(r_label)\n",
    "plt.legend()\n",
    "plt.show()"
   ]
  },
  {
   "cell_type": "code",
   "execution_count": null,
   "metadata": {},
   "outputs": [],
   "source": [
    "print(u_prime_ps / u_prime_disk)"
   ]
  },
  {
   "cell_type": "markdown",
   "metadata": {},
   "source": [
    "**Note** I think that the fact that the energy density ratio does not converge to 1 is due to the expression for the energy density of the disk not being properly normalised with respect to the radius variable $R$. One in fact can see how, given the same luminosity, changing the external and internal radii of the disk will alter the value of $u$ at large distances. This should not be the case as, no matter how the luminosity is geometrically distributed, it should always reduce to the case of a point source at very large distances."
   ]
  },
  {
   "cell_type": "markdown",
   "metadata": {},
   "source": [
    "## Spherical Shell Broad Line Region\n",
    "Let us compute the energy density of the BLR in the two reference frame (stationary in the galaxy and comoving with the blob) and compare it with a monochromatic point source with the same properties of the BLR."
   ]
  },
  {
   "cell_type": "code",
   "execution_count": null,
   "metadata": {},
   "outputs": [],
   "source": [
    "blr = SphericalShellBLR(L_disk, 0.1, \"Lyalpha\", 1e17 * u.cm)\n",
    "# point source with the same luminosity as the BLR\n",
    "ps = PointSourceBehindJet(blr.xi_line * L_disk, blr.epsilon_line)\n",
    "\n",
    "# compute the energy densities in the stationary frame\n",
    "u_blr = blr.u(r)\n",
    "u_ps = ps.u(r)"
   ]
  },
  {
   "cell_type": "code",
   "execution_count": null,
   "metadata": {},
   "outputs": [],
   "source": [
    "plt.loglog(r, u_blr, label=\"spherical shell BLR\")\n",
    "plt.loglog(r, u_ps, ls=\"--\", label=\"point source behind jet\")\n",
    "plt.legend()\n",
    "plt.ylabel(u_label, fontsize=12)\n",
    "plt.xlabel(r_label, fontsize=12)\n",
    "plt.show()"
   ]
  },
  {
   "cell_type": "code",
   "execution_count": null,
   "metadata": {},
   "outputs": [],
   "source": [
    "print(u_ps / u_blr)"
   ]
  },
  {
   "cell_type": "code",
   "execution_count": null,
   "metadata": {},
   "outputs": [],
   "source": [
    "# compute the energy densities in teh frame comoving with the blob\n",
    "u_prime_blr = blr.u(r, blob)\n",
    "u_prime_ps = ps.u(r, blob)"
   ]
  },
  {
   "cell_type": "code",
   "execution_count": null,
   "metadata": {},
   "outputs": [],
   "source": [
    "plt.loglog(r, u_prime_blr, label=\"spherical shell BLR\")\n",
    "plt.loglog(r, u_prime_ps, ls=\"--\", label=\"point source behind jet\")\n",
    "plt.ylabel(u_prime_label, fontsize=12)\n",
    "plt.xlabel(r_label, fontsize=12)\n",
    "plt.legend()\n",
    "plt.show()"
   ]
  },
  {
   "cell_type": "code",
   "execution_count": null,
   "metadata": {},
   "outputs": [],
   "source": [
    "print(u_prime_ps / u_prime_blr)"
   ]
  },
  {
   "cell_type": "markdown",
   "metadata": {},
   "source": [
    "As we can see in both reference frames the energy density of the BLR tends to the one of a point source behind the jet for large enough distances."
   ]
  },
  {
   "cell_type": "markdown",
   "metadata": {},
   "source": [
    "## Ring Dust Torus\n",
    "Finally let us repeat the same exercise for the torus."
   ]
  },
  {
   "cell_type": "code",
   "execution_count": null,
   "metadata": {},
   "outputs": [],
   "source": [
    "dt = RingDustTorus(L_disk, 0.2, 1000 * u.K)\n",
    "# point source approximating the torus\n",
    "ps = PointSourceBehindJet(dt.xi_dt * L_disk, dt.epsilon_dt)\n",
    "\n",
    "u_dt = dt.u(r)\n",
    "u_ps = ps.u(r)"
   ]
  },
  {
   "cell_type": "code",
   "execution_count": null,
   "metadata": {},
   "outputs": [],
   "source": [
    "plt.loglog(r, u_dt, label=\"ring dust torus\")\n",
    "plt.loglog(r, u_ps, ls=\"--\", label=\"point source behind jet\")\n",
    "plt.ylabel(u_label)\n",
    "plt.xlabel(r_label)\n",
    "plt.legend()\n",
    "plt.show()"
   ]
  },
  {
   "cell_type": "code",
   "execution_count": null,
   "metadata": {},
   "outputs": [],
   "source": [
    "print(u_ps / u_dt)"
   ]
  },
  {
   "cell_type": "code",
   "execution_count": null,
   "metadata": {},
   "outputs": [],
   "source": [
    "# compute the energy density in the comoving frame\n",
    "u_prime_dt = dt.u(r, blob)\n",
    "u_prime_ps = ps.u(r, blob)"
   ]
  },
  {
   "cell_type": "code",
   "execution_count": null,
   "metadata": {},
   "outputs": [],
   "source": [
    "plt.loglog(r, u_prime_dt, label=\"ring dust torus\")\n",
    "plt.loglog(r, u_prime_ps, ls=\"--\", label=\"point source behind jet\")\n",
    "plt.ylabel(u_prime_label)\n",
    "plt.xlabel(r_label)\n",
    "plt.legend()\n",
    "plt.show()"
   ]
  },
  {
   "cell_type": "code",
   "execution_count": null,
   "metadata": {},
   "outputs": [],
   "source": [
    "print(u_prime_ps / u_prime_dt)"
   ]
  },
  {
   "cell_type": "markdown",
   "metadata": {},
   "source": [
    "Again in both reference frames the energy density of the dust torus tends to the one of a point source behind the jet with its same luminosity."
   ]
  }
 ],
 "metadata": {
  "kernelspec": {
   "display_name": "Python 3 (ipykernel)",
   "language": "python",
   "name": "python3"
  },
  "language_info": {
   "codemirror_mode": {
    "name": "ipython",
    "version": 3
   },
   "file_extension": ".py",
   "mimetype": "text/x-python",
   "name": "python",
   "nbconvert_exporter": "python",
   "pygments_lexer": "ipython3",
   "version": "3.8.13"
  }
 },
 "nbformat": 4,
 "nbformat_minor": 4
}

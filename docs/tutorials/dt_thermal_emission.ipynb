{
 "cells": [
  {
   "cell_type": "markdown",
   "id": "da587749",
   "metadata": {},
   "source": [
    "# A note on dust torus thermal emission\n",
    "\n",
    "`agnpy` is meant for calculations of non-thermal processes occurring in the jets of active galaxies. The dust torus (DT) emission is considered as a target radiation field for inverse Compton scattering or pair production.\n",
    "\n",
    "The contribution of the thermal emission of the DT to the overall MWL SED is usually considered in Flat Spectrum Radio Quasars (FSRQs), where still, this component is typically dominated by synchrotron radiation (see Fig. 15 in [Aleksic et al. 2016](https://ui.adsabs.harvard.edu/abs/2014A%26A...569A..46A/abstract)). The function computing the DT thermal SED in `agnpy` is mostly meant to check that this emission does not overtake the synchrotron one, and **not for precise modelling of the DT emission**.\n",
    "\n",
    "In this notebook we will illustrate that the single-temperature black-body (BB) radiation computed by `agnpy` (in `RingDustTorus.sed_flux`) does not accurately model the thermal emission observed from a DT. At the same time, we illustrate that for the sake of the inverse Compton calculation, even the strongest approximation of the emission as monochromatic (at the BB peak) is satisfactory."
   ]
  },
  {
   "cell_type": "code",
   "execution_count": null,
   "id": "34501b0d",
   "metadata": {},
   "outputs": [],
   "source": [
    "# import numpy, astropy and matplotlib for basic functionalities\n",
    "import numpy as np\n",
    "from scipy.interpolate import interp1d\n",
    "import astropy.units as u\n",
    "import astropy.constants as const\n",
    "from astropy.coordinates import Distance\n",
    "import matplotlib.pyplot as plt\n",
    "import pkg_resources"
   ]
  },
  {
   "cell_type": "code",
   "execution_count": null,
   "id": "3310d1ad",
   "metadata": {},
   "outputs": [],
   "source": [
    "# import agnpy classes\n",
    "from agnpy.emission_regions import Blob\n",
    "from agnpy.compton import ExternalCompton\n",
    "from agnpy.targets import SSDisk, SphericalShellBLR, RingDustTorus\n",
    "from agnpy.utils.plot import load_mpl_rc, sed_x_label, sed_y_label\n",
    "\n",
    "load_mpl_rc()"
   ]
  },
  {
   "cell_type": "markdown",
   "id": "94af1a1a",
   "metadata": {},
   "source": [
    "## Using single- and multi-temperature black body to model the DT thermal emission\n",
    "\n",
    "We will consider, in this example, the DT emission in NGC 1068, using measurement from [Rieke and Low, 1975](https://ui.adsabs.harvard.edu/abs/1975ApJ...199L..13R/abstract) and a dedicated model of the emission by [Pier and Krolik, 1993](https://ui.adsabs.harvard.edu/abs/1992ApJ...401...99P/abstract)."
   ]
  },
  {
   "cell_type": "code",
   "execution_count": null,
   "id": "fd340dea",
   "metadata": {},
   "outputs": [],
   "source": [
    "# load the Rieke and Low 1975 spectral points, they are included in the agnpy data\n",
    "sed_file = pkg_resources.resource_filename(\n",
    "    \"agnpy\", \"data/dt_seds/NGC1068_rieke_low_1975.txt\"\n",
    ")\n",
    "sed_data = np.loadtxt(sed_file)\n",
    "\n",
    "_lambda = sed_data[:, 0] * u.um\n",
    "flux = sed_data[:, 1] * u.Jy\n",
    "flux_err = sed_data[:, 2] * u.Jy\n",
    "\n",
    "# get a nuFnu SED\n",
    "nu = _lambda.to(\"Hz\", equivalencies=u.spectral())\n",
    "sed = (flux * nu).to(\"erg cm-2 s-1\")\n",
    "sed_err = (flux_err * nu).to(\"erg cm-2 s-1\")\n",
    "\n",
    "# flip the arrays (data were in wavelengths)\n",
    "nu = np.flip(nu)\n",
    "sed = np.flip(sed)\n",
    "sed_err = np.flip(sed_err)"
   ]
  },
  {
   "cell_type": "code",
   "execution_count": null,
   "id": "c3455a71",
   "metadata": {},
   "outputs": [],
   "source": [
    "# load the Pier and Krolik 1992 model\n",
    "model_file = pkg_resources.resource_filename(\n",
    "    \"agnpy\", \"data/dt_seds/pier_krolik_1992.txt\"\n",
    ")\n",
    "model_data = np.loadtxt(model_file)\n",
    "\n",
    "_lambda_model = model_data[:, 0] * u.um\n",
    "flux_model = model_data[:, 1] * u.Unit(\"Jy um-1\")\n",
    "\n",
    "# get a nuFnu SED\n",
    "nu_model = _lambda_model.to(\"Hz\", equivalencies=u.spectral())\n",
    "sed_model = (flux_model * const.c).to(\"erg cm-2 s-1\")\n",
    "\n",
    "# flip the arrays (data were in wavelengths)\n",
    "nu_model = np.flip(nu_model)\n",
    "sed_model = np.flip(sed_model)\n",
    "\n",
    "# create a function interpolating the model points\n",
    "pier_krolik_sed_flux = interp1d(nu_model, sed_model)"
   ]
  },
  {
   "cell_type": "markdown",
   "id": "77117a2d",
   "metadata": {},
   "source": [
    "Now that we have the measured flux and an accurate model, let us try to reproduce the DT emission with a single- and multi-temperature black body, using `agnpy`."
   ]
  },
  {
   "cell_type": "code",
   "execution_count": null,
   "id": "532708c2",
   "metadata": {},
   "outputs": [],
   "source": [
    "# single-temperature black body\n",
    "# this is computed by default by agnpy's RingDustTorus.sed_flux\n",
    "L_disk = 0.6 * 4.7e11 * const.L_sun\n",
    "R_dt = 1 * u.pc\n",
    "d_L = 22 * u.Mpc\n",
    "T = 500 * u.K\n",
    "z = Distance(d_L).z\n",
    "\n",
    "dt_single = RingDustTorus(L_disk=L_disk, T_dt=T, xi_dt=1.0, R_dt=R_dt)\n",
    "\n",
    "# recompute the SED on the same frequency of the Pier Krolik model\n",
    "sed_single_t = dt_single.sed_flux(nu_model, z)"
   ]
  },
  {
   "cell_type": "markdown",
   "id": "eae2c33c",
   "metadata": {},
   "source": [
    "Given 20 wavelength values from $2$ to $30$ $\\mu{\\rm m}$, we will consider the same number of DT whose BB emission peaks at each $\\lambda$ value. To generate the multi-temperature BB we will simply sum their emission. The total luminosity is the same of the single-temperature BB, additionally we scale each BB component following the Pier & Krolik 1993 model."
   ]
  },
  {
   "cell_type": "code",
   "execution_count": null,
   "id": "f4041bc3",
   "metadata": {},
   "outputs": [],
   "source": [
    "def get_T_from_nu_peak(lambdas):\n",
    "    \"\"\"for each peak wavelgength get the corresponding BB peak T\n",
    "    using Wien's displacement law: lambda_peak = b / T\"\"\"\n",
    "    b = 2898 * u.um * u.K\n",
    "    T = b / lambdas\n",
    "    return T.to(\"K\")\n",
    "\n",
    "\n",
    "# multi-T black body:\n",
    "# let us consider a range of wavelengths and extract the corresponding T for the BB to peak there\n",
    "number_bb = 20\n",
    "lambdas = np.logspace(np.log10(3), np.log10(30), number_bb) * u.um\n",
    "nu_bb = lambdas.to(\"Hz\", equivalencies=u.spectral())\n",
    "\n",
    "T = get_T_from_nu_peak(lambdas)"
   ]
  },
  {
   "cell_type": "code",
   "execution_count": null,
   "id": "5dd993e7",
   "metadata": {},
   "outputs": [],
   "source": [
    "# to create a multi-T BB, we create a list of DTs with different T\n",
    "dts = []\n",
    "seds_multi_t = []\n",
    "\n",
    "for _T, _nu in zip(T, nu_bb):\n",
    "    # scale the luminosity of each BB following the Pier Krolik model\n",
    "    L_scale_factor = pier_krolik_sed_flux(_nu) / np.sum(pier_krolik_sed_flux(nu_bb))\n",
    "    dt = RingDustTorus(L_disk=L_scale_factor * L_disk, T_dt=_T, xi_dt=1.0, R_dt=R_dt)\n",
    "    dts.append(dt)\n",
    "    seds_multi_t.append(dt.sed_flux(nu_model, z))\n",
    "\n",
    "# compute their sum\n",
    "sed_multi_t = np.sum(np.asarray(seds_multi_t), axis=0)"
   ]
  },
  {
   "cell_type": "markdown",
   "id": "128145f1",
   "metadata": {},
   "source": [
    "Let us see how they compare to each other"
   ]
  },
  {
   "cell_type": "code",
   "execution_count": null,
   "id": "740f7cbf",
   "metadata": {},
   "outputs": [],
   "source": [
    "fig, ax = plt.subplots()\n",
    "ax.loglog(nu_model, sed_model, ls=\"--\", color=\"dodgerblue\", label=\"Pier & Krolik, 1992\")\n",
    "ax.loglog(nu_model, sed_single_t, ls=\"-\", color=\"goldenrod\", label=\"single-T BB\")\n",
    "for i in range(len(seds_multi_t)):\n",
    "    ax.loglog(nu_model, seds_multi_t[i], ls=\"-\", lw=1.2, color=\"gray\")\n",
    "ax.loglog(nu_model, sed_multi_t, ls=\"-\", color=\"crimson\", label=\"multi-T BB\")\n",
    "ax.errorbar(\n",
    "    nu.value,\n",
    "    sed.value,\n",
    "    yerr=sed_err.value,\n",
    "    ls=\"\",\n",
    "    marker=\"o\",\n",
    "    color=\"k\",\n",
    "    label=\"Rieke & Low, 1975\",\n",
    ")\n",
    "\n",
    "ax.legend(fontsize=10)\n",
    "ax.set_xlabel(sed_x_label)\n",
    "ax.set_ylabel(sed_y_label)\n",
    "ax.set_ylim([1e-12, 1e-6])\n",
    "plt.show()"
   ]
  },
  {
   "cell_type": "markdown",
   "id": "ba392d9e",
   "metadata": {},
   "source": [
    "It is clear that the single-temperature black body does not accurately reproduce the broad $(100-1\\,{\\rm \\mu m})$ band observed flux. It does not span the entire range of data and it peaks in the wrong energy range. A multi-temperature black body is clearly better suited to reproduces the observed DT SED."
   ]
  },
  {
   "cell_type": "markdown",
   "id": "0adc055a",
   "metadata": {},
   "source": [
    "## Impact on external Compton scattering\n",
    "\n",
    "Let us consider now the impact of using a single monochromatic approximation for the DT emission in the EC calculation by exploring the difference when using a multi-temperature (always monochormatic) DT as target. To realise the latter we just re-use the previously created list of DT peaking at different temperatures and compute the EC scattering on their photon fields."
   ]
  },
  {
   "cell_type": "code",
   "execution_count": null,
   "id": "d9728495",
   "metadata": {},
   "outputs": [],
   "source": [
    "# arbitrary emission region\n",
    "norm = 1.5e5 * u.Unit(\"cm-3\")\n",
    "parameters1 = {\n",
    "    \"p1\": 2.0,\n",
    "    \"p2\": 3.9,\n",
    "    \"gamma_b\": 300.0,\n",
    "    \"gamma_min\": 2.5,\n",
    "    \"gamma_max\": 3.0e4,\n",
    "}\n",
    "spectrum_dict = {\"type\": \"BrokenPowerLaw\", \"parameters\": parameters1}\n",
    "R_b = 1.0e16 * u.cm\n",
    "B = 1.0 * u.G\n",
    "delta_D = 20\n",
    "Gamma = 17\n",
    "blob = Blob(R_b, z, delta_D, Gamma, B, norm, spectrum_dict)\n",
    "blob.set_gamma_size(500)\n",
    "\n",
    "\n",
    "# let us consider the emission region at a distance smaller than the DT radius\n",
    "r = 0.3 * u.pc\n",
    "ec = ExternalCompton(blob, dt_single, r)\n",
    "\n",
    "# compute the SED from EC\n",
    "nu_ec = np.logspace(15, 26, 100) * u.Hz\n",
    "sed_ec_single_t = ec.sed_flux(nu_ec)"
   ]
  },
  {
   "cell_type": "code",
   "execution_count": null,
   "id": "ae1009c9",
   "metadata": {},
   "outputs": [],
   "source": [
    "# re-calculate the SED considering each of the previously generated DT ()\n",
    "seds_ec_multi_t = []\n",
    "\n",
    "for dt in dts:\n",
    "    ec = ExternalCompton(blob, dt, r)\n",
    "    seds_ec_multi_t.append(ec.sed_flux(nu_ec))\n",
    "\n",
    "ec_dt_seds_sum = np.sum(np.asarray(seds_ec_multi_t), axis=0)"
   ]
  },
  {
   "cell_type": "code",
   "execution_count": null,
   "id": "dc8d32f1",
   "metadata": {},
   "outputs": [],
   "source": [
    "fig, ax = plt.subplots()\n",
    "\n",
    "\n",
    "for i in range(len(seds_ec_multi_t)):\n",
    "    ax.loglog(nu_ec, seds_ec_multi_t[i], ls=\"-\", lw=1.2, color=\"gray\")\n",
    "\n",
    "ax.loglog(nu_ec, sed_ec_single_t, ls=\"-\", color=\"crimson\", label=\"EC on single-T DT\")\n",
    "ax.loglog(\n",
    "    nu_ec, ec_dt_seds_sum, lw=2, ls=\"-\", color=\"dodgerblue\", label=\"EC on multi-T DT\"\n",
    ")\n",
    "\n",
    "ax.legend()\n",
    "ax.set_xlabel(sed_x_label)\n",
    "ax.set_ylabel(sed_y_label)\n",
    "ax.set_ylim([1e-13, 1e-6])\n",
    "plt.show()"
   ]
  },
  {
   "cell_type": "markdown",
   "id": "9c14d1c9",
   "metadata": {},
   "source": [
    "As we can see, beside the low-energy branch of the SED, usually dominated by other radiative processes, considering a single- or multi-temperature DT target does not significantly impact the EC computation. The small shift of the two curves reflects the shift of the peak energy between the single delta function model and the full DT model."
   ]
  }
 ],
 "metadata": {
  "kernelspec": {
   "display_name": "Python 3 (ipykernel)",
   "language": "python",
   "name": "python3"
  },
  "language_info": {
   "codemirror_mode": {
    "name": "ipython",
    "version": 3
   },
   "file_extension": ".py",
   "mimetype": "text/x-python",
   "name": "python",
   "nbconvert_exporter": "python",
   "pygments_lexer": "ipython3",
   "version": "3.8.13"
  }
 },
 "nbformat": 4,
 "nbformat_minor": 5
}

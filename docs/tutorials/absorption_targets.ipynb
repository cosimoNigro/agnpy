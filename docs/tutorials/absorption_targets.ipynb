{
 "cells": [
  {
   "cell_type": "markdown",
   "id": "fleet-duplicate",
   "metadata": {},
   "source": [
    "# Tutorial: $\\gamma$-$\\gamma$ Absorption in the Photon Fields of Line and Thermal Emitters\n",
    "In this tutorial we will illustrate how to use `agnpy` to compute the $\\gamma$-$\\gamma$ absorption due to the photon fields produced by the BLR and DT photon fields."
   ]
  },
  {
   "cell_type": "code",
   "execution_count": null,
   "id": "clear-norway",
   "metadata": {},
   "outputs": [],
   "source": [
    "import numpy as np\n",
    "import astropy.units as u\n",
    "from astropy.constants import M_sun\n",
    "from astropy.coordinates import Distance\n",
    "import matplotlib.pyplot as plt"
   ]
  },
  {
   "cell_type": "code",
   "execution_count": null,
   "id": "statistical-ghost",
   "metadata": {},
   "outputs": [],
   "source": [
    "from agnpy.targets import SphericalShellBLR, RingDustTorus, PointSourceBehindJet\n",
    "from agnpy.absorption import Absorption\n",
    "from agnpy.utils.plot import load_mpl_rc\n",
    "\n",
    "# matplotlib adjustments\n",
    "load_mpl_rc()"
   ]
  },
  {
   "cell_type": "markdown",
   "id": "sealed-production",
   "metadata": {},
   "source": [
    "## Absorption in the photon field of a spehrical shell BLR \n",
    "Let us consider a BLR composed of a single spherical shell emitting the Ly$\\alpha$ line. Let us take, following Finke (2016) - [see bibliography in the docs](https://agnpy.readthedocs.io/en/latest/bibliography.html), the following parameters representing the blazar 3C 454.3: $L_{\\rm disk} = 2 \\times 10^{46}\\,{\\rm erg}\\,{\\rm s}^{-1}$, $\\xi_{\\rm li} = 0.1$, $R_{\\rm Ly\\alpha} = 1.1 \\times 10^{17}\\,{\\rm cm}$.    The redshift of the source is $z = 0.859$."
   ]
  },
  {
   "cell_type": "code",
   "execution_count": null,
   "id": "initial-permission",
   "metadata": {},
   "outputs": [],
   "source": [
    "L_disk = 2 * 1e46 * u.Unit(\"erg s-1\")\n",
    "xi_line = 0.1\n",
    "R_line = 1.1 * 1e17 * u.cm\n",
    "blr = SphericalShellBLR(L_disk, xi_line, \"Lyalpha\", R_line)"
   ]
  },
  {
   "cell_type": "markdown",
   "id": "accredited-finder",
   "metadata": {},
   "source": [
    "The `Absorption` class, in the case of a photon target, needs to be initialised: the target instance, the distance from the target $r$ and the redshift of the source (energies have to be converted to the galaxy frame). \n",
    "Let us actually compare the absorptions for two cases: inside ($r = 0.1 \\times R_{\\rm Ly\\alpha}$) and outside ($r = 10 \\times R_{\\rm Ly\\alpha}$) the BLR."
   ]
  },
  {
   "cell_type": "code",
   "execution_count": null,
   "id": "regional-walnut",
   "metadata": {},
   "outputs": [],
   "source": [
    "z = 0.859\n",
    "r_in_blr = 0.1 * R_line\n",
    "r_out_blr = 10 * R_line\n",
    "\n",
    "# evaluate the two absorptions\n",
    "abs_in_blr = Absorption(blr, r=r_in_blr, z=z)\n",
    "abs_out_blr = Absorption(blr, r=r_out_blr, z=z)"
   ]
  },
  {
   "cell_type": "markdown",
   "id": "thick-biodiversity",
   "metadata": {},
   "source": [
    "Let us evaluate the absorption in the same energy range considered in Figure 14 of Finke 2016: $[1, 10^5]\\,{\\rm GeV}$"
   ]
  },
  {
   "cell_type": "code",
   "execution_count": null,
   "id": "rental-rover",
   "metadata": {},
   "outputs": [],
   "source": [
    "E = np.logspace(0, 5) * u.GeV\n",
    "nu = E.to(\"Hz\", equivalencies=u.spectral())\n",
    "# evaluate the opacities\n",
    "tau_in_blr = abs_in_blr.tau(nu)\n",
    "tau_out_blr = abs_out_blr.tau(nu)"
   ]
  },
  {
   "cell_type": "code",
   "execution_count": null,
   "id": "improving-rebel",
   "metadata": {},
   "outputs": [],
   "source": [
    "# let us plot them\n",
    "plt.loglog(nu, tau_in_blr, label=r\"$r = 0.1 \\times R_{\\rm Ly\\alpha}$\")\n",
    "plt.loglog(nu, tau_out_blr, label=r\"$r = 10 \\times R_{\\rm Ly\\alpha}$\")\n",
    "plt.legend()\n",
    "plt.ylabel(r\"$\\tau_{\\gamma \\gamma}$\", fontsize=12)\n",
    "plt.xlabel(r\"$\\nu\\,/\\,{\\rm Hz}$\", fontsize=12)\n",
    "plt.show()"
   ]
  },
  {
   "cell_type": "markdown",
   "id": "personalized-external",
   "metadata": {},
   "source": [
    "### Opacity of a misaligned (non-blazar) source\n",
    "In the default opacity calculation, `agnpy` assumes the line of sight of the observer to be aligned with the jet (i.e. the source is a blazar with $\\mu_s = 1$, where $\\theta_s$ is the viewing angle and $\\mu_s$ its cosine). This brings a considerable simplification in the opacity calculation (see the main documentation). \n",
    "\n",
    "For some sources `agnpy` allows the calculation of the opacity for an aribitrary viewing angle (this is possible for BLR, DT and point source behind the blob - as of version 0.0.10). Let us assume we are considering a source with the same parameters of 3C 454.3 in the previous example, but with a viewing angle of $20\\,{\\rm deg}$. Let us evaluate the absorption within the BLR for the aligned and misaligned case "
   ]
  },
  {
   "cell_type": "code",
   "execution_count": null,
   "id": "imperial-crack",
   "metadata": {},
   "outputs": [],
   "source": [
    "mu_s = np.cos(np.deg2rad(20))\n",
    "abs_in_blr_mis = Absorption(blr, r=r_in_blr, z=z, mu_s=mu_s)\n",
    "# evaluate the opacity\n",
    "tau_in_blr_mis = abs_in_blr_mis.tau(nu)"
   ]
  },
  {
   "cell_type": "code",
   "execution_count": null,
   "id": "spread-mountain",
   "metadata": {},
   "outputs": [],
   "source": [
    "# compare the opacity in the aligned and misaligned case\n",
    "plt.loglog(\n",
    "    nu, tau_in_blr, label=r\"$r = 0.1 \\times R_{\\rm Ly\\alpha},\\;\\theta_s=0\\,{\\rm deg}$\"\n",
    ")\n",
    "plt.loglog(\n",
    "    nu,\n",
    "    tau_in_blr_mis,\n",
    "    label=r\"$r = 0.1 \\times R_{\\rm Ly\\alpha},\\;\\theta_s=20\\,{\\rm deg}$\",\n",
    ")\n",
    "plt.legend()\n",
    "plt.ylabel(r\"$\\tau_{\\gamma \\gamma}$\", fontsize=12)\n",
    "plt.xlabel(r\"$\\nu\\,/\\,{\\rm Hz}$\", fontsize=12)\n",
    "plt.show()"
   ]
  },
  {
   "cell_type": "markdown",
   "id": "immediate-harmony",
   "metadata": {},
   "source": [
    "### Comparison of the misaligned case with a point source behind the blob\n",
    "The opacity for the misaligned case, in the limit of large distances $r >> R_{\\rm Ly\\alpha}$, should reduce to the same opacity produced by a monochromatic point source behind the jet approximating the BLR (in luminosity and emitted energy). \n",
    "\n",
    "**Note** this comparison is not possible for the aligned case since for $\\mu_s=1$ there is no absorption from the target photons (factor $(1 - \\mu_s)$ null in the opacity formula)."
   ]
  },
  {
   "cell_type": "code",
   "execution_count": null,
   "id": "careful-peter",
   "metadata": {},
   "outputs": [],
   "source": [
    "# point source with the same luminosity as the BLR\n",
    "ps_blr = PointSourceBehindJet(blr.xi_line * L_disk, blr.epsilon_line)\n",
    "\n",
    "# absorption in the limit of very large distances\n",
    "r_far_blr = 1e2 * R_line\n",
    "abs_far_blr_mis = Absorption(blr, r=r_far_blr, z=z, mu_s=mu_s)\n",
    "abs_far_ps_blr_mis = Absorption(ps_blr, r=r_far_blr, z=z, mu_s=mu_s)"
   ]
  },
  {
   "cell_type": "code",
   "execution_count": null,
   "id": "white-stevens",
   "metadata": {},
   "outputs": [],
   "source": [
    "# compute the opacities\n",
    "tau_far_blr_mis = abs_far_blr_mis.tau(nu)\n",
    "tau_far_ps_blr_mis = abs_far_ps_blr_mis.tau(nu)"
   ]
  },
  {
   "cell_type": "code",
   "execution_count": null,
   "id": "advanced-apparel",
   "metadata": {},
   "outputs": [],
   "source": [
    "# compare the opacity in the aligned and misaligned case\n",
    "plt.loglog(\n",
    "    nu,\n",
    "    tau_far_blr_mis,\n",
    "    label=r\"$r = 100 \\times R_{\\rm Ly\\alpha},\\;\\theta_s=20\\,{\\rm deg}$\",\n",
    ")\n",
    "plt.loglog(nu, tau_far_ps_blr_mis, ls=\"--\", label=\"point source approximating BLR\")\n",
    "plt.legend()\n",
    "plt.ylabel(r\"$\\tau_{\\gamma \\gamma}$\", fontsize=12)\n",
    "plt.xlabel(r\"$\\nu\\,/\\,{\\rm Hz}$\", fontsize=12)\n",
    "plt.show()"
   ]
  },
  {
   "cell_type": "markdown",
   "id": "female-uruguay",
   "metadata": {},
   "source": [
    "## Absorption in the photon field of a ring dust torus \n",
    "Let us consider a ring dust torus. Following Finke (2016) - [see bibliography in the docs](https://agnpy.readthedocs.io/en/latest/bibliography.html), we adopt the following parameters: $L_{\\rm disk} = 2 \\times 10^{46}\\,{\\rm erg}\\,{\\rm s}^{-1}$, $\\xi_{\\rm li} = 0.2$, $T_{\\rm dt} = 10^3\\,{\\rm K}$. The redshift of the source is $z = 0.859$."
   ]
  },
  {
   "cell_type": "code",
   "execution_count": null,
   "id": "quiet-stretch",
   "metadata": {},
   "outputs": [],
   "source": [
    "dt = RingDustTorus(L_disk, 0.2, 1000 * u.K)\n",
    "print(dt.R_dt)"
   ]
  },
  {
   "cell_type": "markdown",
   "id": "unsigned-resort",
   "metadata": {},
   "source": [
    "Again, let us consider two cases of abosrption: inside ($r = 0.1 \\times R_{\\rm dt}$) and outside ($r = 2 \\times R_{\\rm dt}$) the torus"
   ]
  },
  {
   "cell_type": "code",
   "execution_count": null,
   "id": "legendary-elizabeth",
   "metadata": {},
   "outputs": [],
   "source": [
    "r_in_dt = 0.1 * dt.R_dt\n",
    "r_out_dt = 2 * dt.R_dt\n",
    "\n",
    "# define the absorption objects\n",
    "abs_in_dt = Absorption(dt, r=r_in_dt, z=z)\n",
    "abs_out_dt = Absorption(dt, r=r_out_dt, z=z)\n",
    "\n",
    "# evaluate the opacities\n",
    "tau_in_dt = abs_in_dt.tau(nu)\n",
    "tau_out_dt = abs_out_dt.tau(nu)"
   ]
  },
  {
   "cell_type": "code",
   "execution_count": null,
   "id": "straight-break",
   "metadata": {},
   "outputs": [],
   "source": [
    "# let us plot them\n",
    "plt.loglog(nu, tau_in_dt, label=r\"$r = 0.1 \\times R_{\\rm dt}$\")\n",
    "plt.loglog(nu, tau_out_dt, label=r\"$r = 2 \\times R_{\\rm dt}$\")\n",
    "plt.legend()\n",
    "plt.ylabel(r\"$\\tau_{\\gamma \\gamma}$\", fontsize=12)\n",
    "plt.xlabel(r\"$\\nu\\,/\\,{\\rm Hz}$\", fontsize=12)\n",
    "plt.show()"
   ]
  },
  {
   "cell_type": "markdown",
   "id": "timely-technology",
   "metadata": {},
   "source": [
    "### Opacity of a misaligned (non-blazar) source\n",
    "As already explained in the previous opacity calculation, `agnpy` will assume the line of sight of the observer to be aligned with the jet ($\\mu_s = 1$). \n",
    "Let us perform a comparison with a source with the same dust torus defined above, but with a viewing angle of $20\\,{\\rm deg}$. Let us evaluate the absorption within the DT for the aligned and misaligned case "
   ]
  },
  {
   "cell_type": "code",
   "execution_count": null,
   "id": "acting-webster",
   "metadata": {},
   "outputs": [],
   "source": [
    "mu_s = np.cos(np.deg2rad(20))\n",
    "abs_in_dt_mis = Absorption(dt, r=r_in_dt, z=z, mu_s=mu_s)\n",
    "# evaluate the opacity\n",
    "tau_in_dt_mis = abs_in_blr_mis.tau(nu)"
   ]
  },
  {
   "cell_type": "code",
   "execution_count": null,
   "id": "systematic-florist",
   "metadata": {},
   "outputs": [],
   "source": [
    "# compare the opacity in the aligned and misaligned case\n",
    "plt.loglog(nu, tau_in_dt, label=r\"$r = 0.1 \\times R_{\\rm dt},\\;\\theta_s=0\\,{\\rm deg}$\")\n",
    "plt.loglog(\n",
    "    nu, tau_in_dt_mis, label=r\"$r = 0.1 \\times R_{\\rm dt},\\;\\theta_s=20\\,{\\rm deg}$\"\n",
    ")\n",
    "plt.legend()\n",
    "plt.ylabel(r\"$\\tau_{\\gamma \\gamma}$\", fontsize=12)\n",
    "plt.xlabel(r\"$\\nu\\,/\\,{\\rm Hz}$\", fontsize=12)\n",
    "plt.show()"
   ]
  },
  {
   "cell_type": "markdown",
   "id": "about-method",
   "metadata": {},
   "source": [
    "### Comparison of the misaligned case with a point source behind the blob\n",
    "And again, we can compare the opacity for the misaligned case, in the limit of large distances $r >> R_{\\rm dt}$, with the opacity produced by a point source behind the jet approximating (in luminosity and emitted energy) the DT. "
   ]
  },
  {
   "cell_type": "code",
   "execution_count": null,
   "id": "foreign-amsterdam",
   "metadata": {},
   "outputs": [],
   "source": [
    "# point source approximating the dust torus\n",
    "ps_dt = PointSourceBehindJet(dt.xi_dt * L_disk, dt.epsilon_dt)\n",
    "\n",
    "# absorption in the limit of very large distances\n",
    "r_far_dt = 100 * dt.R_dt\n",
    "abs_far_dt_mis = Absorption(dt, r=r_far_dt, z=z, mu_s=mu_s)\n",
    "abs_far_ps_dt_mis = Absorption(ps_dt, r=r_far_dt, z=z, mu_s=mu_s)"
   ]
  },
  {
   "cell_type": "code",
   "execution_count": null,
   "id": "large-conservation",
   "metadata": {},
   "outputs": [],
   "source": [
    "# compute the opacities\n",
    "tau_far_dt_mis = abs_far_dt_mis.tau(nu)\n",
    "tau_far_ps_dt_mis = abs_far_ps_dt_mis.tau(nu)"
   ]
  },
  {
   "cell_type": "code",
   "execution_count": null,
   "id": "great-shareware",
   "metadata": {},
   "outputs": [],
   "source": [
    "# compare the opacity in the aligned and misaligned case\n",
    "plt.loglog(\n",
    "    nu, tau_far_dt_mis, label=r\"$r = 100 \\times R_{\\rm dt},\\;\\theta_s=20\\,{\\rm deg}$\"\n",
    ")\n",
    "plt.loglog(nu, tau_far_ps_dt_mis, ls=\"--\", label=\"point source approximating the DT\")\n",
    "plt.legend()\n",
    "plt.ylabel(r\"$\\tau_{\\gamma \\gamma}$\", fontsize=12)\n",
    "plt.xlabel(r\"$\\nu\\,/\\,{\\rm Hz}$\", fontsize=12)\n",
    "plt.show()"
   ]
  }
 ],
 "metadata": {
  "kernelspec": {
   "display_name": "Python 3 (ipykernel)",
   "language": "python",
   "name": "python3"
  },
  "language_info": {
   "codemirror_mode": {
    "name": "ipython",
    "version": 3
   },
   "file_extension": ".py",
   "mimetype": "text/x-python",
   "name": "python",
   "nbconvert_exporter": "python",
   "pygments_lexer": "ipython3",
   "version": "3.8.13"
  }
 },
 "nbformat": 4,
 "nbformat_minor": 5
}

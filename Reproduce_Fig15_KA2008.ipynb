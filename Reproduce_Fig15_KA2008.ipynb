{
 "cells": [
  {
   "cell_type": "code",
   "execution_count": 1,
   "metadata": {},
   "outputs": [
    {
     "name": "stderr",
     "output_type": "stream",
     "text": [
      "WARNING:root:sherpa and gammapy are not installed, the agnpy.fit module cannot be used\n"
     ]
    },
    {
     "name": "stdout",
     "output_type": "stream",
     "text": [
      "1.25.1\n"
     ]
    }
   ],
   "source": [
    "import numpy as np\n",
    "import astropy.units as u\n",
    "from astropy.constants import c, m_p, k_B, h\n",
    "#from scipy.special import expn\n",
    "#from sympy import Symbol, uppergamma, lambdify\n",
    "from agnpy.spectra import PowerLaw\n",
    "import matplotlib.pyplot as plt\n",
    "from agnpy.utils.math import axes_reshaper\n",
    "from agnpy.spectra import ExpCutoffPowerLaw as ECPL\n",
    "from agnpy.utils.conversion import epsilon_equivalency\n",
    "from agnpy.photo_meson.kernels import phi_gamma\n",
    "\n",
    "print(np. __version__)"
   ]
  },
  {
   "cell_type": "markdown",
   "metadata": {},
   "source": [
    "### Reproduce Fig. 15 KA2008"
   ]
  },
  {
   "cell_type": "markdown",
   "metadata": {},
   "source": [
    "The formulas we need are Eqs. 70-71 of the paper: $ \\frac{dN}{dE} = \\int_{\\eta_{0}}^\\infty H(\\eta, E) \\mathrm \\, {d}\\eta $, with $ H(\\eta, E) = \\int_{E}^\\infty \\frac{dE_p}{E_p^{2}} \\, f_p(E_p) \\, f_{ph} \\left( \\frac{\\eta \\, m_p^2 c^4}{4E_p} \\right) \\, \\Phi_i\\left(\\eta, \\frac{E}{E_p}\\right) $\n",
    "\n",
    "By putting them together we have: \n",
    "\\begin{equation}\n",
    "    \\frac{dN}{dE} = \\frac{m_p^2 \\, c^4}{4} \\int_{\\eta_{0}}^\\infty \\mathrm \\, {d}\\eta \\int_{E}^\\infty \\frac{dE_p}{E_p^{2}} \\, f_p(E_p) \\, f_{ph} \\left( \\frac{\\eta \\, m_p^2 c^4}{4E_p} \\right) \\, \\Phi_i\\left(\\eta, \\frac{E}{E_p}\\right) \n",
    "    %\\label{eq:dnde}\n",
    "\\end{equation}\n",
    "\n",
    "Here $E$, the lower extreme of the integration, is varying. It represent the starting energy of the output particle and we need it to vary in order to build the spectrum on each energy bin.\n",
    "\n",
    "In order to perform the integration with it varying we need a mask on the energy array (in our case the $\\gamma$ array since AGNpy uses $\\gamma$). Then we need to integrate over $\\eta$.\n",
    "In order to do all of this we need: \n",
    "- integrand to be 3D\n",
    "- $H(\\eta, E)$ to be 2D \n",
    "- $\\mathrm{d}N/\\mathrm{d}E$ to be 1D (it is our spectrum)"
   ]
  },
  {
   "cell_type": "markdown",
   "metadata": {},
   "source": [
    "In order to compute the spectrum we then need the $\\eta$ and $E$ arrays.\n",
    "Since AGNpy works with the Lorentz factor $\\gamma$ and not with energies, we have to convert the equation of $dN/dE$ in $\\gamma$.\n",
    "\n",
    "In this way the input array we give is the Lorentz factor $\\gamma$ of the output particles. In case we are interested in the output $\\gamma-$ rays, the $\\gamma$ array represent the dimensionless energy of the photons, given by $\\epsilon = \\frac{h \\nu}{m_p c^2}$"
   ]
  },
  {
   "cell_type": "code",
   "execution_count": 2,
   "metadata": {},
   "outputs": [],
   "source": [
    "# Constants\n",
    "mpc2 = (m_p * c ** 2).to('eV')"
   ]
  },
  {
   "cell_type": "code",
   "execution_count": 33,
   "metadata": {
    "scrolled": true
   },
   "outputs": [
    {
     "name": "stdout",
     "output_type": "stream",
     "text": [
      "(10,)\n",
      "(10, 10)\n",
      "(10, 1, 1)\n",
      "(1, 10, 1)\n",
      "(1, 1, 10)\n"
     ]
    }
   ],
   "source": [
    "# Define arrays to integrate on\n",
    "eta = np.linspace(0.3443,31.3,10)\n",
    "eta0 = 0.313\n",
    "\n",
    "Ec = 3 * 1e20 * u.eV\n",
    "#Eg = 0.5 * Ec\n",
    "Emax = 1e23 * u.eV\n",
    "gamma_max = (Emax / mpc2).to_value(\"\")\n",
    "gamma_lim = (Ec / mpc2).to_value(\"\") # it is the epsilon for photons\n",
    "gamma = np.logspace(np.log10(gamma_lim), np.log10(gamma_max), 10)\n",
    "\n",
    "# Conversion of variables in Eq. 70 into log\n",
    "y = np.log10(gamma)\n",
    "y_lim = np.log10(gamma_lim)\n",
    "y_max = np.log10(gamma_max)\n",
    "\n",
    "# Create matrix for integration with varying lower extreme\n",
    "y_x, y_y = np.meshgrid(y, y)\n",
    "\n",
    "# Reshape axes for multi-dimensionale operations\n",
    "# _y_x, _y_y, _eta = axes_reshaper(y_x, y_y, eta) # first integral variable before\n",
    "_y_x, _y_y, _eta = axes_reshaper(y, y, eta) # first integral variable before\n",
    "# _y_x, _eta, _y_y, = axes_reshaper(y, eta, y) # first integral variable before\n",
    "\n",
    "print(y.shape)\n",
    "print(y_x.shape)\n",
    "print(_y_x.shape)\n",
    "print(_y_y.shape)\n",
    "print(_eta.shape)\n",
    "\n",
    "# plt.plot(y_x, y_y, marker='o',linestyle='none')\n"
   ]
  },
  {
   "cell_type": "code",
   "execution_count": 34,
   "metadata": {},
   "outputs": [
    {
     "name": "stdout",
     "output_type": "stream",
     "text": [
      "[[11.50479246 11.78511232 12.06543218 12.34575204 12.6260719  12.90639176\n",
      "  13.18671162 13.46703148 13.74735134 14.0276712 ]\n",
      " [11.50479246 11.78511232 12.06543218 12.34575204 12.6260719  12.90639176\n",
      "  13.18671162 13.46703148 13.74735134 14.0276712 ]\n",
      " [11.50479246 11.78511232 12.06543218 12.34575204 12.6260719  12.90639176\n",
      "  13.18671162 13.46703148 13.74735134 14.0276712 ]\n",
      " [11.50479246 11.78511232 12.06543218 12.34575204 12.6260719  12.90639176\n",
      "  13.18671162 13.46703148 13.74735134 14.0276712 ]\n",
      " [11.50479246 11.78511232 12.06543218 12.34575204 12.6260719  12.90639176\n",
      "  13.18671162 13.46703148 13.74735134 14.0276712 ]\n",
      " [11.50479246 11.78511232 12.06543218 12.34575204 12.6260719  12.90639176\n",
      "  13.18671162 13.46703148 13.74735134 14.0276712 ]\n",
      " [11.50479246 11.78511232 12.06543218 12.34575204 12.6260719  12.90639176\n",
      "  13.18671162 13.46703148 13.74735134 14.0276712 ]\n",
      " [11.50479246 11.78511232 12.06543218 12.34575204 12.6260719  12.90639176\n",
      "  13.18671162 13.46703148 13.74735134 14.0276712 ]\n",
      " [11.50479246 11.78511232 12.06543218 12.34575204 12.6260719  12.90639176\n",
      "  13.18671162 13.46703148 13.74735134 14.0276712 ]\n",
      " [11.50479246 11.78511232 12.06543218 12.34575204 12.6260719  12.90639176\n",
      "  13.18671162 13.46703148 13.74735134 14.0276712 ]]\n"
     ]
    }
   ],
   "source": [
    "print(y_x)"
   ]
  },
  {
   "cell_type": "code",
   "execution_count": 35,
   "metadata": {
    "scrolled": true
   },
   "outputs": [],
   "source": [
    "# Proton distribution with alpha = 2\n",
    "#k1 = 1 * u.eV\n",
    "k1 = (0.24153*1e11)/(mpc2.value**2) * u.Unit('cm-3')\n",
    "#k1 = 1e5 * u.Unit(\"cm-3\")\n",
    "p = 2.0\n",
    "\n",
    "n_p = ECPL(k = k1, \n",
    "          p = p,\n",
    "          gamma_c = gamma_lim,\n",
    "          gamma_min = 1,\n",
    "          gamma_max = 1e15, \n",
    "          mass = m_p)"
   ]
  },
  {
   "cell_type": "code",
   "execution_count": 36,
   "metadata": {},
   "outputs": [],
   "source": [
    "# Soft photon distribution: Black Body\n",
    "def BlackBody(epsilon):\n",
    "    T = 2.7 * u.K\n",
    "    kT = (k_B * T).to('eV').value\n",
    "    c1 = c.to('cm s-1').value\n",
    "    h1 = h.to('eV s').value\n",
    "    norm = 8 * np.pi / (h1 ** 3 * c1 ** 3)\n",
    "    num = (mpc2.value * epsilon) ** 2\n",
    "    denom = np.exp(mpc2.value * epsilon / kT) - 1\n",
    "    \n",
    "    return norm * (num / denom) * u.Unit('cm-3')"
   ]
  },
  {
   "cell_type": "code",
   "execution_count": 37,
   "metadata": {},
   "outputs": [
    {
     "name": "stdout",
     "output_type": "stream",
     "text": [
      "(10, 1, 1)\n",
      "(10, 1, 10)\n",
      "(10, 1, 10)\n",
      "(10, 1, 10)\n",
      "(10, 1, 1)\n",
      "(1, 1, 10)\n"
     ]
    }
   ],
   "source": [
    "# Create H integrand in log (from Eq. 70 KA2008)\n",
    "fp_log = n_p(10 ** _y_x).value\n",
    "fph_log = BlackBody(_eta / (4 * 10 ** _y_x)).value\n",
    "phig_log = phi_gamma(_eta, 10 ** y_lim/ 10 ** _y_x)\n",
    "\n",
    "H_integrand_log = (10 ** (-_y_x)) * fp_log * fph_log * phig_log * np.log(10)\n",
    "\n",
    "print(fp_log.shape)\n",
    "print(fph_log.shape)\n",
    "print(phig_log.shape)\n",
    "print(H_integrand_log.shape)\n",
    "print(_y_x.shape)\n",
    "print(_eta.shape)\n",
    "# print(_y_x)\n",
    "# print(_eta)"
   ]
  },
  {
   "cell_type": "code",
   "execution_count": 40,
   "metadata": {},
   "outputs": [
    {
     "name": "stdout",
     "output_type": "stream",
     "text": [
      "(10, 10, 10)\n",
      "(10, 10, 1)\n",
      "[[[ True]\n",
      "  [False]\n",
      "  [False]\n",
      "  [False]\n",
      "  [False]\n",
      "  [False]\n",
      "  [False]\n",
      "  [False]\n",
      "  [False]\n",
      "  [False]]\n",
      "\n",
      " [[ True]\n",
      "  [ True]\n",
      "  [False]\n",
      "  [False]\n",
      "  [False]\n",
      "  [False]\n",
      "  [False]\n",
      "  [False]\n",
      "  [False]\n",
      "  [False]]\n",
      "\n",
      " [[ True]\n",
      "  [ True]\n",
      "  [ True]\n",
      "  [False]\n",
      "  [False]\n",
      "  [False]\n",
      "  [False]\n",
      "  [False]\n",
      "  [False]\n",
      "  [False]]\n",
      "\n",
      " [[ True]\n",
      "  [ True]\n",
      "  [ True]\n",
      "  [ True]\n",
      "  [False]\n",
      "  [False]\n",
      "  [False]\n",
      "  [False]\n",
      "  [False]\n",
      "  [False]]\n",
      "\n",
      " [[ True]\n",
      "  [ True]\n",
      "  [ True]\n",
      "  [ True]\n",
      "  [ True]\n",
      "  [False]\n",
      "  [False]\n",
      "  [False]\n",
      "  [False]\n",
      "  [False]]\n",
      "\n",
      " [[ True]\n",
      "  [ True]\n",
      "  [ True]\n",
      "  [ True]\n",
      "  [ True]\n",
      "  [ True]\n",
      "  [False]\n",
      "  [False]\n",
      "  [False]\n",
      "  [False]]\n",
      "\n",
      " [[ True]\n",
      "  [ True]\n",
      "  [ True]\n",
      "  [ True]\n",
      "  [ True]\n",
      "  [ True]\n",
      "  [ True]\n",
      "  [False]\n",
      "  [False]\n",
      "  [False]]\n",
      "\n",
      " [[ True]\n",
      "  [ True]\n",
      "  [ True]\n",
      "  [ True]\n",
      "  [ True]\n",
      "  [ True]\n",
      "  [ True]\n",
      "  [ True]\n",
      "  [False]\n",
      "  [False]]\n",
      "\n",
      " [[ True]\n",
      "  [ True]\n",
      "  [ True]\n",
      "  [ True]\n",
      "  [ True]\n",
      "  [ True]\n",
      "  [ True]\n",
      "  [ True]\n",
      "  [ True]\n",
      "  [False]]\n",
      "\n",
      " [[ True]\n",
      "  [ True]\n",
      "  [ True]\n",
      "  [ True]\n",
      "  [ True]\n",
      "  [ True]\n",
      "  [ True]\n",
      "  [ True]\n",
      "  [ True]\n",
      "  [ True]]]\n"
     ]
    },
    {
     "data": {
      "text/plain": [
       "<matplotlib.colorbar.Colorbar at 0x14a85ba10>"
      ]
     },
     "execution_count": 40,
     "metadata": {},
     "output_type": "execute_result"
    },
    {
     "data": {
      "image/png": "[encoded data removed]",
      "text/plain": [
       "<Figure size 640x480 with 2 Axes>"
      ]
     },
     "metadata": {},
     "output_type": "display_data"
    }
   ],
   "source": [
    "# Create mask in order to integrate with varying lower extreme\n",
    "mask = _y_x >= _y_y\n",
    "# mask = y_x >= y_y\n",
    "H_integrand_masked = np.where(mask, H_integrand_log, 0)\n",
    "\n",
    "H_int_masked = np.where(mask, H_integrand_log, np.nan)\n",
    "\n",
    "# #print(H_integrand_masked)\n",
    "print(H_integrand_masked.shape)\n",
    "print(mask.shape)\n",
    "print(mask)\n",
    "\n",
    "fig, ax = plt.subplots()\n",
    "im = ax.imshow(H_int_masked[:,:,0], origin=\"lower\")\n",
    "fig.colorbar(im)"
   ]
  },
  {
   "cell_type": "code",
   "execution_count": 41,
   "metadata": {},
   "outputs": [
    {
     "name": "stdout",
     "output_type": "stream",
     "text": [
      "(10, 10)\n",
      "(10, 1, 1)\n",
      "(1, 10, 1)\n"
     ]
    }
   ],
   "source": [
    "# Compute first integration (on gammas)\n",
    "prefactor = mpc2 / 4\n",
    "H = np.trapz(prefactor * H_integrand_masked, _y_x, axis=0)\n",
    "\n",
    "#print(H)\n",
    "print(H.shape)\n",
    "print(_y_x.shape)\n",
    "print(_y_y.shape)"
   ]
  },
  {
   "cell_type": "code",
   "execution_count": 46,
   "metadata": {},
   "outputs": [
    {
     "name": "stdout",
     "output_type": "stream",
     "text": [
      "(10,)\n",
      "(10, 10)\n",
      "(1, 1, 10)\n",
      "(10,)\n",
      "[[11.50479246]\n",
      " [11.78511232]\n",
      " [12.06543218]\n",
      " [12.34575204]\n",
      " [12.6260719 ]\n",
      " [12.90639176]\n",
      " [13.18671162]\n",
      " [13.46703148]\n",
      " [13.74735134]\n",
      " [14.0276712 ]]\n"
     ]
    }
   ],
   "source": [
    "# Compute second integration (on etas)\n",
    "dNdE = np.trapz(H, eta, axis=0)\n",
    "#dNdE = np.trapz(H, _eta, axis=0)\n",
    "# dNdE = (dNdE * u.Unit('eV-1 cm-3 s-1')).to('erg-1 cm-3 s-1')\n",
    "\n",
    "#print(dNdE)\n",
    "print(dNdE.shape)\n",
    "print(H.shape)\n",
    "print(_eta.shape)\n",
    "print(eta.shape)\n",
    "\n",
    "print(_y_x[:,0])\n",
    "\n",
    "# dNdE = np.trapz(H, eta, axis=0)"
   ]
  },
  {
   "cell_type": "code",
   "execution_count": 49,
   "metadata": {},
   "outputs": [
    {
     "data": {
      "text/plain": [
       "(1e+17, 5e+23)"
      ]
     },
     "execution_count": 49,
     "metadata": {},
     "output_type": "execute_result"
    },
    {
     "data": {
      "image/png": "[encoded data removed]",
      "text/plain": [
       "<Figure size 640x480 with 1 Axes>"
      ]
     },
     "metadata": {},
     "output_type": "display_data"
    }
   ],
   "source": [
    "E = gamma * mpc2\n",
    "plt.loglog(E, E * dNdE)\n",
    "# plt.xlabel(r'$\\eta / \\eta_0$')\n",
    "# plt.ylabel(r'$H(\\eta, E_\\gamma)$')\n",
    "# plt.ylim(1e-39,1e-36)\n",
    "plt.xlim(1e17,5e23)"
   ]
  },
  {
   "cell_type": "code",
   "execution_count": null,
   "metadata": {},
   "outputs": [],
   "source": []
  }
 ],
 "metadata": {
  "kernelspec": {
   "display_name": "Python 3 (ipykernel)",
   "language": "python",
   "name": "python3"
  },
  "language_info": {
   "codemirror_mode": {
    "name": "ipython",
    "version": 3
   },
   "file_extension": ".py",
   "mimetype": "text/x-python",
   "name": "python",
   "nbconvert_exporter": "python",
   "pygments_lexer": "ipython3",
   "version": "3.11.4"
  }
 },
 "nbformat": 4,
 "nbformat_minor": 2
}
